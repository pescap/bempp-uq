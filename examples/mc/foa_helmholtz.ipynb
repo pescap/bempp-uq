{
 "cells": [
  {
   "cell_type": "code",
   "execution_count": 3,
   "metadata": {},
   "outputs": [
    {
     "name": "stdout",
     "output_type": "stream",
     "text": [
      "516\n"
     ]
    },
    {
     "name": "stderr",
     "output_type": "stream",
     "text": [
      "/usr/lib/python3/dist-packages/matplotlib/font_manager.py:273: UserWarning: Matplotlib is building the font cache using fc-list. This may take a moment.\n",
      "  warnings.warn('Matplotlib is building the font cache using fc-list. This may take a moment.')\n",
      "/usr/lib/python3/dist-packages/matplotlib/font_manager.py:273: UserWarning: Matplotlib is building the font cache using fc-list. This may take a moment.\n",
      "  warnings.warn('Matplotlib is building the font cache using fc-list. This may take a moment.')\n"
     ]
    },
    {
     "data": {
      "text/plain": [
       "<matplotlib.figure.Figure at 0x7fba64c61e10>"
      ]
     },
     "metadata": {},
     "output_type": "display_data"
    },
    {
     "data": {
      "text/plain": [
       "<matplotlib.figure.Figure at 0x7fba64c89668>"
      ]
     },
     "metadata": {},
     "output_type": "display_data"
    }
   ],
   "source": [
    "import bempp.api as bem\n",
    "import numpy as np\n",
    "\n",
    "def perturbate(grid, t, kappa_pert=None):\n",
    "    P1 = bem.function_space(grid, 'P', 1)\n",
    "    grid_funz = bem.GridFunction(P1, fun = Phiz)\n",
    "    elements = grid.leaf_view.elements\n",
    "    vertices = grid.leaf_view.vertices\n",
    "    normals = P1.global_dof_normals\n",
    "    x, y, z = vertices\n",
    "    \n",
    "    vertices[2, :] = z + t * grid_funz.coefficients\n",
    "    return bem.grid_from_element_data(vertices, elements)\n",
    "    \n",
    "def dirichlet_fun(x, n, domain_index, result):\n",
    "    result[0] = np.exp(1j * k0 * x[0])\n",
    "\n",
    "def neumann_fun(x, n, domain_index, result):\n",
    "    result[0] = 1j * k0 * np.exp(1j * k0 * x[0]) * n[0]\n",
    "\n",
    "\n",
    "def Phiz(point, n, domain_index, result):\n",
    "    x, y, z = point\n",
    "    if z == 0.5 and (y <= 0.5) and (z <= 0.5):\n",
    "        result[0] = np.sin(np.pi*x*2) * np.sin(np.pi*y*2)\n",
    "    else:\n",
    "        result[0] = 0\n",
    " \n",
    "\n",
    "\n",
    "k0 = 3\n",
    "precision = 10\n",
    "\n",
    "#tolerance = 1E-7\n",
    "\n",
    "h = 2.0 * np.pi / (precision * k0)\n",
    "tolerance = 10E-4\n",
    "grid = bem.shapes.reentrant_cube(h=h)\n",
    "\n",
    "print(grid.leaf_view.entity_count(0))\n",
    "def solver(grid):\n",
    "    space = bem.function_space(grid, 'DP', 0)\t\n",
    "    V = bem.operators.boundary.helmholtz.single_layer(space, space, space, k0)\n",
    "    K = bem.operators.boundary.helmholtz.double_layer(space, space, space, k0)\n",
    "    I = bem.operators.boundary.sparse.identity(space, space, space)\n",
    "    df =  bem.GridFunction(space , fun = dirichlet_fun)\n",
    "    phi, info, res = bem.linalg.gmres(V, df, tol=tolerance, return_residuals=True, use_strong_form=False, maxiter=1000, restart=1000)\n",
    "    slp_far_field = bem.operators.far_field.helmholtz.single_layer(space, points, k0)\n",
    "    U = -slp_far_field * phi\n",
    "    return U\n",
    "\n",
    "\n",
    "\n",
    "\n",
    "\n",
    "theta = np.linspace(0, 2 * np.pi, 400)\n",
    "points = np.array([np.cos(theta), np.sin(theta), np.zeros(len(theta))])\n",
    "\n",
    "space = bem.function_space(grid, 'DP', 0)\t\n",
    "\n",
    "V = bem.operators.boundary.helmholtz.single_layer(space, space, space, k0)\n",
    "K = bem.operators.boundary.helmholtz.double_layer(space, space, space, k0)\n",
    "I = bem.operators.boundary.sparse.identity(space, space, space)\n",
    "\n",
    "df =  bem.GridFunction(space , fun = dirichlet_fun)\n",
    "\n",
    "phi, info, res = bem.linalg.gmres(V, df, tol=tolerance, return_residuals=True, use_strong_form=False, maxiter=1000, restart=1000)\n",
    "\n",
    "kappa = bem.GridFunction(space, fun = Phiz)\n",
    "fun1 = bem.GridFunction(space, coefficients = kappa.coefficients * phi.coefficients)\n",
    "rhs1 = -0.5 * I + K\n",
    "rhsp = rhs1 * (-fun1)\n",
    "phi1, info, res = bem.linalg.gmres(V, rhsp,  tol=tolerance, return_residuals=True, use_strong_form=False, maxiter=1000, restart=1000)\n",
    "\n",
    "\n",
    "\n",
    "phi2, info, res = bem.linalg.gmres(V, -fun1,  tol=tolerance, return_residuals=True, use_strong_form=False, maxiter=1000, restart=1000)\n",
    "\n",
    "\n",
    "\n",
    "slp_far_field = bem.operators.far_field.helmholtz.single_layer(space, points, k0)\n",
    "dlp_far_field = bem.operators.far_field.helmholtz.double_layer(space, points, k0)\n",
    "\n",
    "\n",
    "t = 1\n",
    "\n",
    "U = -slp_far_field * phi\n",
    "U1 =  -slp_far_field * phi1 + dlp_far_field * (-fun1)\n",
    "\n",
    "U12 =  slp_far_field * phi2\n",
    "grt = gridt = perturbate(grid, t)\n",
    "Ut = solver(grt)\n",
    "Up = U + t * U1\n",
    "\n",
    "\n",
    "############\n",
    "coeff = 1/12.* 1/4.\n",
    "variance = coeff * U1 * np.conj(U1)\n",
    "\n",
    "\n",
    "\n",
    "\n",
    "from matplotlib import pyplot as plt\n",
    "fig = plt.figure()\n",
    "angles = np.pi * np.linspace(0, 1, 400)\n",
    "\n",
    "\n",
    "\n"
   ]
  },
  {
   "cell_type": "code",
   "execution_count": 4,
   "metadata": {},
   "outputs": [
    {
     "data": {
      "image/png": "[encoded data removed]",
      "text/plain": [
       "<matplotlib.figure.Figure at 0x7fba64c60518>"
      ]
     },
     "metadata": {},
     "output_type": "display_data"
    }
   ],
   "source": [
    "fig = plt.figure()\n",
    "\n",
    "bistatic_rcs= 10 * np.log10(4 * np.pi * np.sum(np.abs(U)**2, axis=0))\n",
    "plt.plot(angles * 180 / np.pi, bistatic_rcs, label='U',color='r' )\n",
    "\n",
    "bistatic_rcs= 10 * np.log10(4 * np.pi * np.sum(np.abs(Ut)**2, axis=0))\n",
    "plt.plot(angles * 180 / np.pi, bistatic_rcs, label='Ut',color='k' )\n",
    "\n",
    "bistatic_rcs= 10 * np.log10(4 * np.pi * np.sum(np.abs(Up)**2, axis=0))\n",
    "plt.plot(angles * 180 / np.pi, bistatic_rcs, label='Up',color='b' )\n",
    "\n",
    "\n",
    "#plt.plot(angles * 180 / np.pi, bistatic_rcst, label='Ut')\n",
    "plt.title(\"Bistatic RCS [dB]\")\n",
    "plt.xlabel('Angle (Degrees)')\n",
    "plt.legend()\n",
    "plt.show()"
   ]
  },
  {
   "cell_type": "code",
   "execution_count": null,
   "metadata": {},
   "outputs": [],
   "source": []
  }
 ],
 "metadata": {
  "kernelspec": {
   "display_name": "Python 3",
   "language": "python",
   "name": "python3"
  },
  "language_info": {
   "codemirror_mode": {
    "name": "ipython",
    "version": 3
   },
   "file_extension": ".py",
   "mimetype": "text/x-python",
   "name": "python",
   "nbconvert_exporter": "python",
   "pygments_lexer": "ipython3",
   "version": "3.5.2"
  }
 },
 "nbformat": 4,
 "nbformat_minor": 2
}
