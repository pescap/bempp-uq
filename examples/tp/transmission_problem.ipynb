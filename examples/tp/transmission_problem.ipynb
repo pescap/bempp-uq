{
 "cells": [
  {
   "cell_type": "code",
   "execution_count": 2,
   "metadata": {},
   "outputs": [
    {
     "ename": "ImportError",
     "evalue": "cannot import name 'coefficients_from_grid_functions_list'",
     "output_type": "error",
     "traceback": [
      "\u001b[0;31m---------------------------------------------------------------------------\u001b[0m",
      "\u001b[0;31mImportError\u001b[0m                               Traceback (most recent call last)",
      "\u001b[0;32m<ipython-input-2-476ff25711a9>\u001b[0m in \u001b[0;36m<module>\u001b[0;34m()\u001b[0m\n\u001b[1;32m      3\u001b[0m \u001b[0;32mfrom\u001b[0m \u001b[0mdecimal\u001b[0m \u001b[0;32mimport\u001b[0m \u001b[0;34m*\u001b[0m\u001b[0;34m\u001b[0m\u001b[0m\n\u001b[1;32m      4\u001b[0m \u001b[0;34m\u001b[0m\u001b[0m\n\u001b[0;32m----> 5\u001b[0;31m \u001b[0;32mimport\u001b[0m \u001b[0mbemppUQ\u001b[0m\u001b[0;34m\u001b[0m\u001b[0m\n\u001b[0m\u001b[1;32m      6\u001b[0m \u001b[0;32mfrom\u001b[0m \u001b[0mbemppUQ\u001b[0m\u001b[0;34m.\u001b[0m\u001b[0mconfig\u001b[0m \u001b[0;32mimport\u001b[0m \u001b[0mconfig\u001b[0m\u001b[0;34m\u001b[0m\u001b[0m\n\u001b[1;32m      7\u001b[0m \u001b[0;32mfrom\u001b[0m \u001b[0mbemppUQ\u001b[0m\u001b[0;34m.\u001b[0m\u001b[0moperators\u001b[0m\u001b[0;34m.\u001b[0m\u001b[0mmaxwell\u001b[0m \u001b[0;32mimport\u001b[0m \u001b[0massemble_operators\u001b[0m\u001b[0;34m,\u001b[0m \u001b[0mevaluate_far_field\u001b[0m\u001b[0;34m\u001b[0m\u001b[0m\n",
      "\u001b[0;32m~/work/FOSD/bempp-uq/bemppUQ/__init__.py\u001b[0m in \u001b[0;36m<module>\u001b[0;34m()\u001b[0m\n\u001b[1;32m     14\u001b[0m ]\n\u001b[1;32m     15\u001b[0m \u001b[0;34m\u001b[0m\u001b[0m\n\u001b[0;32m---> 16\u001b[0;31m from . import (\n\u001b[0m\u001b[1;32m     17\u001b[0m     \u001b[0massembly\u001b[0m\u001b[0;34m,\u001b[0m\u001b[0;34m\u001b[0m\u001b[0m\n\u001b[1;32m     18\u001b[0m     \u001b[0mconfig\u001b[0m\u001b[0;34m,\u001b[0m\u001b[0;34m\u001b[0m\u001b[0m\n",
      "\u001b[0;32m~/work/FOSD/bempp-uq/bemppUQ/operators/__init__.py\u001b[0m in \u001b[0;36m<module>\u001b[0;34m()\u001b[0m\n\u001b[1;32m      1\u001b[0m \u001b[0m__all__\u001b[0m \u001b[0;34m=\u001b[0m \u001b[0;34m[\u001b[0m\u001b[0;34m\"maxwell\"\u001b[0m\u001b[0;34m]\u001b[0m\u001b[0;34m\u001b[0m\u001b[0m\n\u001b[1;32m      2\u001b[0m \u001b[0;34m\u001b[0m\u001b[0m\n\u001b[0;32m----> 3\u001b[0;31m \u001b[0;32mfrom\u001b[0m \u001b[0;34m.\u001b[0m \u001b[0;32mimport\u001b[0m \u001b[0mmaxwell\u001b[0m\u001b[0;34m\u001b[0m\u001b[0m\n\u001b[0m",
      "\u001b[0;32m~/work/FOSD/bempp-uq/bemppUQ/operators/maxwell.py\u001b[0m in \u001b[0;36m<module>\u001b[0;34m()\u001b[0m\n\u001b[1;32m      1\u001b[0m \u001b[0;32mimport\u001b[0m \u001b[0mbempp\u001b[0m\u001b[0;34m.\u001b[0m\u001b[0mapi\u001b[0m\u001b[0;34m\u001b[0m\u001b[0m\n\u001b[1;32m      2\u001b[0m \u001b[0;32mimport\u001b[0m \u001b[0mnumpy\u001b[0m \u001b[0;32mas\u001b[0m \u001b[0mnp\u001b[0m\u001b[0;34m\u001b[0m\u001b[0m\n\u001b[0;32m----> 3\u001b[0;31m from bempp.api.assembly.blocked_operator import (\n\u001b[0m\u001b[1;32m      4\u001b[0m     \u001b[0mBlockedOperator\u001b[0m\u001b[0;34m,\u001b[0m\u001b[0;34m\u001b[0m\u001b[0m\n\u001b[1;32m      5\u001b[0m     \u001b[0mcoefficients_from_grid_functions_list\u001b[0m\u001b[0;34m,\u001b[0m\u001b[0;34m\u001b[0m\u001b[0m\n",
      "\u001b[0;31mImportError\u001b[0m: cannot import name 'coefficients_from_grid_functions_list'"
     ]
    }
   ],
   "source": [
    "import bempp.api\n",
    "import numpy as np\n",
    "from decimal import *\n",
    "\n",
    "import bemppUQ\n",
    "from bemppUQ.config import config\n",
    "from bemppUQ.operators.maxwell import assemble_operators, evaluate_far_field\n",
    "\n",
    "from bemppUQ.utils.mie import bhmie\n",
    "bempp.api.global_parameters.assembly.potential_operator_assembly_type = 'dense'"
   ]
  },
  {
   "cell_type": "code",
   "execution_count": null,
   "metadata": {},
   "outputs": [],
   "source": [
    "k_ext, k_int = config[\"k_ext\"], config[\"k_int\"]\n",
    "lambda_par, freq = config[\"lambda\"], config[\"frequency\"]\n",
    "polarization = config[\"polarization\"]\n",
    "direction = config[\"direction\"]\n",
    "\n",
    "eps_rel = config[\"eps_rel\"]\n",
    "mu_rel = config[\"mu_rel\"]\n",
    "print(\"The exterior wavenumber is: {0}\".format(k_ext))\n",
    "print(\"The interior wavenumber is: {0}\".format(k_int))\n",
    "\n",
    "print(\"----\")\n",
    "print(\"The exterior wavelenght is: {0}\".format(lambda_par))\n",
    "print(\"The exterior frequency is: {:.2E}\".format(Decimal(freq)))\n"
   ]
  },
  {
   "cell_type": "code",
   "execution_count": null,
   "metadata": {},
   "outputs": [],
   "source": [
    "precision = 10\n",
    "\n",
    "h = 2.0 * np.pi / (precision * config[\"k_int\"])\n",
    "\n",
    "grid = bempp.api.shapes.sphere(h=h)\n",
    "k_int, k_ext = config['k_int'], config['k_ext']\n",
    "print(grid.leaf_view.entity_count(1))\n",
    "n = k_int / k_ext\n",
    "refIndex = n\n",
    "numAngles = 901\n",
    "s1,s2,qext,qsca,qback,gsca=bhmie(k_ext,k_int / k_ext,numAngles)\n",
    "transmission_operators = assemble_operators(grid, config)\n",
    "far_field, solution = evaluate_far_field(transmission_operators, config)"
   ]
  },
  {
   "cell_type": "code",
   "execution_count": null,
   "metadata": {},
   "outputs": [],
   "source": [
    "from matplotlib import pyplot as plt\n",
    "\n",
    "angles = config['angles']\n",
    "k_ext = config['k_ext']\n",
    "\n",
    "fig, ax  = plt.subplots(1,1, figsize=(6,6))\n",
    "A22 = far_field[2,:]   # -1j * kExt is to make agree with eqn 3.21 p70 tBohren and Huffman\n",
    "\n",
    "plt.rcParams['figure.figsize'] = (15, 4) # Increase the figure size in the notebook\n",
    "\n",
    "uh = abs(4 * np.pi  / (-1j * k_ext) * s1)**2\n",
    "u = abs(A22[:1801])**2\n",
    "\n",
    "ax.semilogy(angles[:1801], uh, '-r', label='BEM solution')\n",
    "ax.semilogy(angles[:1801], u, '--b', label='Analytic solution')\n",
    "\n",
    "ax.set_title(r'$\\mathrm{RCS}_z(\\theta)$: BEM (red) vs. analytic (blue)', fontsize=14)\n",
    "\n",
    "ax.set_xlabel(r'$\\theta$ (rad)', fontsize=14)\n",
    "ax.set_ylabel(r'$\\mathrm{RCS}_z(\\theta)$', fontsize=14)\n",
    "\n",
    "\n",
    "ymin, ymax = uh.min() * .7 , uh.max() * 1.3\n",
    "ax.legend()\n",
    "ax.grid()\n",
    "plt.xlim(-.1, np.pi + 0.1)\n",
    "plt.ylim(ymin, ymax)\n",
    "plt.savefig('plots/RCSSphere.pdf')\n",
    "plt.show() "
   ]
  },
  {
   "cell_type": "code",
   "execution_count": null,
   "metadata": {},
   "outputs": [],
   "source": [
    "precision_list = [1, 2, 5, 10, 20, 30, 40, 50,60]\n",
    "\n",
    "for precision in precision_list:\n",
    "    h = 2*np.pi/(precision*k_ext)\n",
    "    print('Starting run for precision: ', precision)\n",
    "    \n",
    "    grid = bempp.api.shapes.sphere(h=h)\n",
    "    N =  2 * grid.leaf_view.entity_count(1)\n",
    "    print('Ndof: ', N)\n",
    "    bempp.api.global_parameters.hmat.eps = 1E-4\n",
    "    transmission_operators = assemble_operators(grid, config)\n",
    "    far_field, solution = evaluate_far_field(transmission_operators, config)\n",
    "    \n",
    "    A22 = - 1j * k_ext * far_field[2,:]\n",
    "    name = (\n",
    "    \"results/\"\n",
    "        + \"precision\"\n",
    "    + str(precision)\n",
    "    )\n",
    "\n",
    "    my_dict = {\n",
    "            \"A22\": A22,\n",
    "            \"h\": h,\n",
    "            \"N\": N,        \n",
    "        }\n",
    "\n",
    "    np.save(name + \".npy\", my_dict)        "
   ]
  }
 ],
 "metadata": {
  "kernelspec": {
   "display_name": "Python 3",
   "language": "python",
   "name": "python3"
  }
 },
 "nbformat": 4,
 "nbformat_minor": 2
}
