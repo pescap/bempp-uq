{
 "cells": [
  {
   "cell_type": "code",
   "execution_count": 1,
   "metadata": {},
   "outputs": [],
   "source": [
    "import sys\n",
    "sys.path.append('../../')\n",
    "import bemppUQ\n",
    "import numpy as np\n",
    "import bempp.api \n",
    "from bempp.api.assembly.blocked_operator import BlockedOperator\n",
    "from bemppUQ.utils.mie import bhmie\n",
    "from bemppUQ.preconditioning.osrc import osrc_MtE\n",
    "from bemppUQ.utils.login import rescale, gmres\n",
    "from bempp.api.assembly.blocked_operator import \\\n",
    "        coefficients_of_grid_function_list, \\\n",
    "        projections_of_grid_function_list, \\\n",
    "        grid_function_list_from_coefficients"
   ]
  },
  {
   "cell_type": "code",
   "execution_count": 2,
   "metadata": {},
   "outputs": [],
   "source": [
    "bempp.api.global_parameters.hmat.eps = 1E-5\n",
    "\n",
    "m_ext = 1\n",
    "m_int = 1\n",
    "\n",
    "k_ext = 1.047197551196598\n",
    "n = 1.311\n",
    "k_int = n*k_ext\n",
    "\n",
    "precision = 30\n",
    "h = 2*np.pi/(precision*k_ext)\n",
    "\n",
    "maxiter = 10000\n",
    "restart = 10000\n",
    "tolerance =  1e-04"
   ]
  },
  {
   "cell_type": "code",
   "execution_count": 3,
   "metadata": {},
   "outputs": [],
   "source": [
    "def incident_field_z(x):\n",
    "    return np.array([0. * x[0], 0. * x[0], np.exp(1j * k_ext * x[0])])\n",
    "\n",
    "# Incident field polarized in y-direction\n",
    "def incident_field_y(x):\n",
    "    return np.array([0. * x[0], np.exp(1j * k_ext * x[0]), 0. * x[0]])\n",
    "\n",
    "# Dirichlet trace\n",
    "def dirichlet_trace_z(x, n, domain_index, result):\n",
    "    incident_field_z = np.array([0. * x[0], 0. * x[0], np.exp(1j * k_ext * x[0])])\n",
    "    result[:] = np.cross(incident_field_z, n)\n",
    "\n",
    "def dirichlet_trace_y(x, n, domain_index, result):\n",
    "    incident_field_y = np.array([0. * x[0], np.exp(1j * k_ext * x[0]), 0. * x[0]])\n",
    "    result[:] = np.cross(incident_field_y, n)\n",
    "\n",
    "def neumann_trace_z(x, n, domain_index, result):\n",
    "    curl_z = np.array([x[0] * 0. ,-1j * k_ext * np.exp(1j * k_ext * x[0]), x[0] * 0.])\n",
    "#     with objmode():\n",
    "    result[:] = (1/(1j * k_ext)) * np.cross(curl_z, n)\n",
    "\n",
    "def neumann_trace_y(x, n, domain_index, result):\n",
    "    curl_y = np.array([x[0] * 0., x[0] * 0. ,1j * k_ext * np.exp(1j * k_ext * x[0])])\n",
    "#     with objmode():\n",
    "    result[:] = (1/(1j * k_ext)) * np.cross(curl_y,n)"
   ]
  },
  {
   "cell_type": "code",
   "execution_count": 4,
   "metadata": {},
   "outputs": [
    {
     "name": "stdout",
     "output_type": "stream",
     "text": [
      "2538 N\n"
     ]
    }
   ],
   "source": [
    "number_of_angles = 3601\n",
    "angles = np.pi * np.linspace(0, 2, number_of_angles)\n",
    "unit_points = np.array([np.cos(angles), np.sin(angles), np.zeros(number_of_angles)])\n",
    "\n",
    "ka = k_ext\n",
    "refIndex = n\n",
    "numAngles = 901\n",
    "\n",
    "[s1,s2,qext,qsca,qback,gsca]=bhmie(ka,refIndex,numAngles)\n",
    "\n",
    "grid = bempp.api.shapes.sphere(h=h)\n",
    "#grid = bemppUQ.shapes.reentrant_cube_exterior(h=0.1)\n",
    "#grid = bempp.api.shapes.reentrant_cube(h=h)\n",
    "RWG = bempp.api.function_space(grid, 'RWG', 0)\n",
    "SNC = bempp.api.function_space(grid, 'SNC', 0)\n",
    "\n",
    "print(RWG.global_dof_count * 2 , 'N')\n",
    "op_int = BlockedOperator(2,2)\n",
    "op_ext = BlockedOperator(2,2)\n",
    "op_osrc_int = BlockedOperator(2,2)\n",
    "op_osrc_ext = BlockedOperator(2,2)\n",
    "\n",
    "efield_e = bempp.api.operators.boundary.maxwell.electric_field(RWG, RWG, SNC, k_ext)\n",
    "mfield_e = bempp.api.operators.boundary.maxwell.magnetic_field(RWG, RWG, SNC, k_ext)\n",
    "\n",
    "efield_i = bempp.api.operators.boundary.maxwell.electric_field(RWG, RWG, SNC, k_int)\n",
    "mfield_i = bempp.api.operators.boundary.maxwell.magnetic_field(RWG, RWG, SNC, k_int)\n",
    "\n",
    "osrc_ext = osrc_MtE(grid, k_ext)\n",
    "osrc_int = osrc_MtE(grid, k_int)\n",
    "\n",
    "op_ext[0,0] = mfield_e\n",
    "op_ext[0,1] = efield_e\n",
    "op_ext[1,0] = -1*efield_e\n",
    "op_ext[1,1] = mfield_e\n",
    "\n",
    "op_int[0,0] = mfield_i\n",
    "op_int[0,1] = efield_i\n",
    "op_int[1,0] = -1*efield_i\n",
    "op_int[1,1] = mfield_i\n",
    "\n",
    "op_osrc_ext[0,1] = osrc_ext\n",
    "op_osrc_ext[1,0] = -osrc_ext\n",
    "\n",
    "op_osrc_int[0,1] = osrc_int\n",
    "op_osrc_int[1,0] = -osrc_int\n",
    "\n",
    "op_osrc_ext = rescale(op_osrc_ext, k_ext, m_ext)\n",
    "op_osrc_int = rescale(op_osrc_int, k_int, m_int)\n",
    "\n",
    "op_osrc = op_osrc_ext + op_osrc_int\n",
    "\n",
    "op_ext = rescale(op_ext, k_ext, m_ext)\n",
    "op_int = rescale(op_int, k_int, m_int)\n",
    "\n",
    "op = op_ext + op_int\n",
    "\n",
    "identity = BlockedOperator(2,2)\n",
    "identity[0, 0] = bempp.api.operators.boundary.sparse.identity(RWG, RWG, SNC)\n",
    "identity[1, 1] = bempp.api.operators.boundary.sparse.identity(RWG, RWG, SNC)\n",
    "\n",
    "#Discretize the incident field\n",
    "incident_dirichlet_z = bempp.api.GridFunction(RWG, fun=dirichlet_trace_z)\n",
    "incident_neumann_z = (k_ext/m_ext) * bempp.api.GridFunction(RWG, fun=neumann_trace_z)\n",
    "\n",
    "incident_dirichlet_y = bempp.api.GridFunction(RWG, dual_space=RWG, fun=dirichlet_trace_y)\n",
    "incident_neumann_y = (k_ext/m_ext) * bempp.api.GridFunction(RWG, fun=neumann_trace_y)\n",
    "\n",
    "op_rhs = 0.5 * identity - op_int\n",
    "\n",
    "rhs_z = [incident_dirichlet_z, incident_neumann_z]\n",
    "rhs_z = op_rhs * rhs_z\n",
    "\n",
    "rhs_y = [incident_dirichlet_y, incident_neumann_y]\n",
    "rhs_y = op_rhs * rhs_y\n",
    "\n",
    "b_y = projections_of_grid_function_list(rhs_y, op.dual_to_range_spaces)\n",
    "b_z = projections_of_grid_function_list(rhs_z, op.dual_to_range_spaces)\n",
    "\n",
    "op_osrc_wf = op_osrc.weak_form()\n",
    "op_wf = op.weak_form()\n",
    "\n",
    "\n"
   ]
  },
  {
   "cell_type": "code",
   "execution_count": 5,
   "metadata": {},
   "outputs": [
    {
     "name": "stdout",
     "output_type": "stream",
     "text": [
      "iteration - 1 || residual - 0.29435588563125603\n",
      "iteration - 2 || residual - 0.11376322281266973\n",
      "iteration - 3 || residual - 0.03645537680714428\n",
      "iteration - 4 || residual - 0.008751776995065907\n",
      "iteration - 5 || residual - 0.004199980284344062\n",
      "iteration - 6 || residual - 0.002794016548236863\n",
      "iteration - 7 || residual - 0.0021126275059011102\n",
      "iteration - 8 || residual - 0.0010721449660529585\n",
      "iteration - 9 || residual - 0.0007707506408432534\n",
      "iteration - 10 || residual - 0.00048273224913802194\n",
      "iteration - 11 || residual - 0.00032678329501866627\n",
      "iteration - 12 || residual - 0.0002412839784760088\n",
      "iteration - 13 || residual - 0.000194110093201761\n",
      "iteration - 14 || residual - 0.00013420836487885692\n",
      "iteration - 15 || residual - 8.800602583751718e-05\n",
      "iteration - 1 || residual - 0.29404444335284285\n",
      "iteration - 2 || residual - 0.11369210022345945\n",
      "iteration - 3 || residual - 0.036583692164313404\n",
      "iteration - 4 || residual - 0.008797064914810086\n",
      "iteration - 5 || residual - 0.004241360572971905\n",
      "iteration - 6 || residual - 0.002817627847951655\n",
      "iteration - 7 || residual - 0.002125529440187348\n",
      "iteration - 8 || residual - 0.0010655295041327919\n",
      "iteration - 9 || residual - 0.0007643979333037411\n",
      "iteration - 10 || residual - 0.000485454959694652\n",
      "iteration - 11 || residual - 0.00034139106684873583\n",
      "iteration - 12 || residual - 0.00023829653032272943\n",
      "iteration - 13 || residual - 0.00019266349178242344\n",
      "iteration - 14 || residual - 0.00013156505956963074\n",
      "iteration - 15 || residual - 8.638388853801645e-05\n"
     ]
    }
   ],
   "source": [
    "x_y, info, res_y = gmres(op_osrc_wf * op_wf ,op_osrc_wf * b_y, tol=tolerance, return_residuals=True,  maxiter=maxiter, restart=restart)\n",
    "x_z, info, res_z = gmres(op_osrc_wf * op_wf ,op_osrc_wf * b_z, tol=tolerance, return_residuals=True,  maxiter=maxiter, restart=restart)\n",
    "\n",
    "sol_y = grid_function_list_from_coefficients(x_y, op.domain_spaces)\n",
    "sol_z = grid_function_list_from_coefficients(x_z, op.domain_spaces)"
   ]
  },
  {
   "cell_type": "code",
   "execution_count": 6,
   "metadata": {},
   "outputs": [
    {
     "data": {
      "text/plain": [
       "array([ 0.06698775+0.06366378j, -0.05373041+0.0372246j ,\n",
       "       -0.01771748-0.102155j  , ..., -0.1058781 +0.0451702j ,\n",
       "       -0.14468007+0.06811808j, -0.14263898+0.06658283j])"
      ]
     },
     "execution_count": 6,
     "metadata": {},
     "output_type": "execute_result"
    }
   ],
   "source": [
    "sol_y[0].coefficients"
   ]
  },
  {
   "cell_type": "code",
   "execution_count": 7,
   "metadata": {},
   "outputs": [],
   "source": [
    "far_field_y = np.zeros((3, number_of_angles), dtype='complex128')\n",
    "far_field_z = np.zeros((3, number_of_angles), dtype='complex128')\n",
    "# bempp.api.global_parameters.assembly.potential_operator_assembly_type = 'dense'\n",
    "\n",
    "electric_far = bempp.api.operators.far_field.maxwell.electric_field(RWG, unit_points, k_ext)\n",
    "magnetic_far = bempp.api.operators.far_field.maxwell.magnetic_field(RWG, unit_points, k_ext)    \n",
    "far_field_y += -electric_far * (m_ext/k_ext *sol_y[1]) - magnetic_far * sol_y[0]\n",
    "far_field_z += -electric_far * (m_ext/k_ext *sol_z[1]) - magnetic_far * sol_z[0]\n",
    "\n",
    "#far_field_z\n",
    "\n",
    "A22 = -1j * k_ext * far_field_z[2,:]   # -1j * kExt is to make agree with eqn 3.21 p70 Bohren and Huffman\n",
    "A12 = -1j * k_ext * (- np.sin(angles) * far_field_z[0,:] + np.cos(angles) * far_field_z[1,:])\n",
    "\n",
    "A11 = -1j * k_ext * (- np.sin(angles) * far_field_y[0,:] + np.cos(angles) * far_field_y[1,:])\n",
    "A21 = -1j * k_ext * far_field_y[2,:]\n"
   ]
  },
  {
   "cell_type": "code",
   "execution_count": 9,
   "metadata": {},
   "outputs": [
    {
     "data": {
      "image/png": "[encoded data removed]",
      "text/plain": [
       "<Figure size 1080x288 with 2 Axes>"
      ]
     },
     "metadata": {},
     "output_type": "display_data"
    }
   ],
   "source": [
    "from matplotlib import pyplot as plt\n",
    "from mpl_toolkits.axes_grid1 import make_axes_locatable\n",
    "plt.rcParams['figure.figsize'] = (15, 4) # Increase the figure size in the notebook\n",
    "params = {'legend.fontsize': 'x-large', 'axes.labelsize': 'x-large', 'axes.titlesize': 'x-large',\n",
    "         'xtick.labelsize': 'x-large', 'ytick.labelsize': 'x-large'}\n",
    "plt.rcParams.update(params)\n",
    "\n",
    "fig, axes = plt.subplots(1, 2, sharex=True, sharey=False)\n",
    "\n",
    "f0 = axes[0].semilogy(angles[:1801],abs(s2)**2,'-r',angles[:1801],abs(A11[:1801])**2,'--b')\n",
    "axes[0].set_title('$A_{11}$: Mie (red) vs. BEM (blue)')\n",
    "\n",
    "f1 = axes[1].semilogy(angles[:1801],abs(s1)**2,'-r',angles[:1801],abs(A22[:1801])**2,'--b')\n",
    "axes[1].set_title('$A_{22}$: Mie (red) vs. BEM (blue)')\n",
    "\n",
    "\n",
    "plt.show()"
   ]
  },
  {
   "cell_type": "code",
   "execution_count": null,
   "metadata": {},
   "outputs": [],
   "source": []
  }
 ],
 "metadata": {
  "kernelspec": {
   "display_name": "Python 3",
   "language": "python",
   "name": "python3"
  },
  "language_info": {
   "codemirror_mode": {
    "name": "ipython",
    "version": 3
   },
   "file_extension": ".py",
   "mimetype": "text/x-python",
   "name": "python",
   "nbconvert_exporter": "python",
   "pygments_lexer": "ipython3",
   "version": "3.5.2"
  }
 },
 "nbformat": 4,
 "nbformat_minor": 2
}
