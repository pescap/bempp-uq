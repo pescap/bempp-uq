{
 "cells": [
  {
   "cell_type": "code",
   "execution_count": 1,
   "metadata": {},
   "outputs": [
    {
     "name": "stdout",
     "output_type": "stream",
     "text": [
      "bemppUQ\t\t\t     import_package.ipynb  README.md\r\n",
      "Combination Technique.ipynb  login.pyc\t\t   Tensor Operator Solver.ipynb\r\n",
      "examples\t\t     product\t\t   TP main.ipynb\r\n",
      "FOA Sound-Hard.ipynb\t     projection.py\t   transformationk.pdf\r\n",
      "FOA Sound-Soft.ipynb\t     projection.pyc\r\n",
      "FOSD.py\t\t\t     __pycache__\r\n"
     ]
    }
   ],
   "source": [
    "!ls"
   ]
  },
  {
   "cell_type": "code",
   "execution_count": 2,
   "metadata": {},
   "outputs": [],
   "source": [
    "import bemppUQ "
   ]
  },
  {
   "cell_type": "code",
   "execution_count": 3,
   "metadata": {},
   "outputs": [
    {
     "data": {
      "text/plain": [
       "<module 'bemppUQ.preconditioning' from '/home/bempp/work/UQ/Bempp-UQ/bemppUQ/preconditioning/__init__.py'>"
      ]
     },
     "execution_count": 3,
     "metadata": {},
     "output_type": "execute_result"
    }
   ],
   "source": [
    "bemppUQ.preconditioning"
   ]
  },
  {
   "cell_type": "code",
   "execution_count": 4,
   "metadata": {},
   "outputs": [
    {
     "data": {
      "text/plain": [
       "<module 'bemppUQ.preconditioning' from '/home/bempp/work/UQ/Bempp-UQ/bemppUQ/preconditioning/__init__.py'>"
      ]
     },
     "execution_count": 4,
     "metadata": {},
     "output_type": "execute_result"
    }
   ],
   "source": [
    "bemppUQ.preconditioning"
   ]
  },
  {
   "cell_type": "code",
   "execution_count": 5,
   "metadata": {},
   "outputs": [
    {
     "data": {
      "text/plain": [
       "<function bemppUQ.preconditioning.osrc.osrc_MtE(grid, wave_number, MtEType='1', Np=1)>"
      ]
     },
     "execution_count": 5,
     "metadata": {},
     "output_type": "execute_result"
    }
   ],
   "source": [
    "bemppUQ.preconditioning.osrc."
   ]
  }
 ],
 "metadata": {
  "kernelspec": {
   "display_name": "Python 3",
   "language": "python",
   "name": "python3"
  },
  "language_info": {
   "codemirror_mode": {
    "name": "ipython",
    "version": 3
   },
   "file_extension": ".py",
   "mimetype": "text/x-python",
   "name": "python",
   "nbconvert_exporter": "python",
   "pygments_lexer": "ipython3",
   "version": "3.5.2"
  }
 },
 "nbformat": 4,
 "nbformat_minor": 2
}
