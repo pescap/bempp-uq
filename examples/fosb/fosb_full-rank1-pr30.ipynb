{
 "cells": [
  {
   "cell_type": "code",
   "execution_count": 1,
   "metadata": {},
   "outputs": [],
   "source": [
    "#for j in $(seq 3 4); do for i in $(seq 1 20); do python main --seed $((20 * j + $i))&done;done;"
   ]
  },
  {
   "cell_type": "code",
   "execution_count": 2,
   "metadata": {},
   "outputs": [
    {
     "name": "stdout",
     "output_type": "stream",
     "text": [
      "23982\n",
      "iteration - 1 || residual - 0.138019264318 7.7192299365997314\n",
      "iteration - 2 || residual - 0.0273534341243 3.8349568843841553\n",
      "iteration - 3 || residual - 0.00649852303624 3.831845760345459\n",
      "iteration - 4 || residual - 0.00107344472443 3.504716157913208\n",
      "iteration - 5 || residual - 0.000223758351447 3.298823595046997\n",
      "iteration - 6 || residual - 4.76532022568e-05 3.277501344680786\n",
      "iteration - 7 || residual - 1.01208450857e-05 3.8040146827697754\n",
      "iteration - 8 || residual - 1.80732311905e-06 0.01331639289855957\n"
     ]
    }
   ],
   "source": [
    "import bempp.api\n",
    "import numpy as np\n",
    "\n",
    "import sys\n",
    "sys.path.append('../../')\n",
    "from decimal import *\n",
    "\n",
    "import bemppUQ\n",
    "from bemppUQ.operators.maxwell import assemble_operators, evaluate_far_field, evaluate_far_field_sd\n",
    "\n",
    "bempp.api.global_parameters.assembly.potential_operator_assembly_type = 'dense'\n",
    "bempp.api.global_parameters.hmat.eps = 1E-4\n",
    "\n",
    "\n",
    "from bemppUQ.shapes import reentrant_cube_exterior\n",
    "\n",
    "def function(x, y, i, j):\n",
    "    zx = 0\n",
    "    zy = 0\n",
    "    if i == 0:\n",
    "        zx = np.sin(x * np.pi * 2)\n",
    "    if i == 1:\n",
    "        if x <= 0.25:\n",
    "            zx = np.sin(x * np.pi * 4)\n",
    "    if i == 2:\n",
    "        if x > 0.25:\n",
    "            zx = -np.sin(x * np.pi * 4)\n",
    "    if i == 3:\n",
    "        if x <= 0.5 / 3.:\n",
    "            zx = np.sin(x * np.pi * 6)\n",
    "    if i == 4:\n",
    "        if x > 0.5 / 3. and x <= 1 / 3.:\n",
    "            zx = -np.sin(x * np.pi * 6)\n",
    "    if i ==5:\n",
    "        if x > 1/3.:\n",
    "            zx = np.sin(x * np.pi * 6)\n",
    "\n",
    "    if j == 0:\n",
    "        zy = np.sin(y * np.pi * 2)\n",
    "\n",
    "    if j == 1:\n",
    "        if y <= 0.25:\n",
    "            zy = np.sin(y * np.pi * 4)\n",
    "\n",
    "    if j == 2:\n",
    "        if y > 0.25:\n",
    "            zy = -np.sin(y * np.pi * 4)\n",
    "    \n",
    "    if j == 3:\n",
    "        if y <= 0.5 / 3.:\n",
    "            zy = np.sin(y * np.pi * 6)\n",
    "\n",
    "    if j == 4:\n",
    "        if y > 0.5 / 3. and y <= 1 / 3.:\n",
    "            zy = -np.sin(y * np.pi * 6)\n",
    "    if j == 5:\n",
    "        if y > 1/3.:\n",
    "            zy = np.sin(y * np.pi * 6)\n",
    "\n",
    "    return zx * zy\n",
    "\n",
    "\n",
    "# Def random:\n",
    "\n",
    "def Phiz(point, n, domain_index, result):\n",
    "    x, y, z = point\n",
    "\n",
    "    res = 0j\n",
    "    if z == 0.5 and (x <= 0.5) and (y <= 0.5):\n",
    "        for ii in range(6):\n",
    "            for jj in range(6):\n",
    "                res += Random[ii,jj] * function(x, y, ii,jj)\t\n",
    "    result[0] = res\n",
    "\n",
    "\n",
    "\n",
    "def perturbate(grid, t, kappa_pert=None):\n",
    "    P1 = bempp.api.function_space(grid, 'B-P', 1)\n",
    "    grid_funz = bempp.api.GridFunction(P1, fun = Phiz)\n",
    "    elements = grid.leaf_view.elements\n",
    "    vertices = grid.leaf_view.vertices\n",
    "    normals = P1.global_dof_normals\n",
    "    x, y, z = vertices\n",
    "    \n",
    "    vertices[2, :] = z + t * grid_funz.coefficients\n",
    "    return bempp.api.grid_from_element_data(vertices, elements)\n",
    "\n",
    "\n",
    "\n",
    "def get_base_grid(h):\n",
    "\n",
    "    gr0 = bempp.api.shapes.reentrant_cube(h=h, refinement_factor=1) \n",
    "    elements0 = list(gr0.leaf_view.entity_iterator(0))\n",
    "    N0 = len(elements0)\n",
    "    tol = h / 10.\n",
    "    for i in range(N0):\n",
    "        el0 = elements0[i]\n",
    "        z = el0.geometry.corners[2]\n",
    "        if np.linalg.norm(np.array([1/2, 1/2, 1/2]) - z) < tol:\n",
    "            gr0.mark(el0)\n",
    "    gr1 = gr0.refine()\n",
    "\n",
    "\n",
    "    elements0 = list(gr1.leaf_view.entity_iterator(0))\n",
    "    N0 = len(elements0)\n",
    "    for i in range(N0):\n",
    "        el0 = elements0[i]\n",
    "        z = el0.geometry.corners[2]\n",
    "        if np.linalg.norm(np.array([1/2, 1/2, 1/2])-z) < tol:\n",
    "            gr1.mark(el0)\n",
    "\n",
    "    base_grid = gr1.refine()\n",
    "    return base_grid\n",
    "\n",
    "\n",
    "\n",
    "config = bemppUQ.config.set_case('A')\n",
    "precision = 30\n",
    "\n",
    "h = 2.0 * np.pi / (precision * config[\"k_int\"])\n",
    "\n",
    "base_grid = get_base_grid(h=h) \n",
    "N = 2 * base_grid.leaf_view.entity_count(1)\n",
    "print(N)\n",
    "transmission_operators = assemble_operators(base_grid, config)\n",
    "Umean, solution = evaluate_far_field(transmission_operators, config)\n",
    "\n",
    "\n",
    "#far_field_p, sol_p = evaluate_far_field_sd(base_grid, transmission_operators, config, solution, grid_fun)\n",
    "\n",
    "nrank = 1\n",
    "grid_funs = []\n",
    "for ii in range(nrank):\n",
    "    for jj in range(nrank):\n",
    "        def fun(point, n, domain_index, result):\n",
    "            x, y, z = point\n",
    "\n",
    "            res = 0j\n",
    "            if z == 0.5 and (x <= 0.5) and (y <= 0.5):\n",
    "                res += function(x, y, ii,jj)\n",
    "            result[0] = res\n",
    "            \n",
    "        space = bempp.api.function_space(base_grid, 'B-P', 1)\n",
    "        grid_fun = bempp.api.GridFunction(space, fun= fun)\n",
    "        grid_funs.append(grid_fun)\n",
    "        \n",
    "    "
   ]
  },
  {
   "cell_type": "code",
   "execution_count": 3,
   "metadata": {},
   "outputs": [
    {
     "name": "stdout",
     "output_type": "stream",
     "text": [
      "0\n",
      "iteration - 1 || residual - 0.103535805158 6.459002733230591\n",
      "iteration - 2 || residual - 0.0119238325714 3.2983834743499756\n",
      "iteration - 3 || residual - 0.00232743515369 3.35038161277771\n",
      "iteration - 4 || residual - 0.000396403532064 3.786689043045044\n",
      "iteration - 5 || residual - 8.08375384291e-05 3.2474358081817627\n",
      "iteration - 6 || residual - 1.55582970487e-05 3.381727457046509\n",
      "iteration - 7 || residual - 2.85926214595e-06 0.021468639373779297\n"
     ]
    }
   ],
   "source": [
    "result = evaluate_far_field_sd(base_grid, transmission_operators, config, solution, grid_funs, solve = True)\n"
   ]
  },
  {
   "cell_type": "code",
   "execution_count": 47,
   "metadata": {},
   "outputs": [],
   "source": [
    "n = config['number_of_angles']\n",
    "\n",
    "Sigma = np.zeros((n, n), dtype=np.complex128)\n",
    "k = 0\n",
    "for ii in range(nrank):\n",
    "    for jj in range(nrank):\n",
    "        #ff = np.sum(result[k], axis=0)\n",
    "        ff = result[k][0]\n",
    "        Sigma +=  1/3. * bemppUQ.utils.login.tensorize(ff,ff)\n",
    "        k += 1\n",
    "        \n",
    "t = .05\n",
    "Uvars = t ** 2 * Sigma.diagonal()\n",
    "#Umeans = np.sum(Umean, axis=0)\n",
    "Umeans = Umean[0]\n"
   ]
  },
  {
   "cell_type": "code",
   "execution_count": 48,
   "metadata": {},
   "outputs": [
    {
     "data": {
      "image/png": "[encoded data removed]",
      "text/plain": [
       "<matplotlib.figure.Figure at 0x7fb6b012ada0>"
      ]
     },
     "metadata": {},
     "output_type": "display_data"
    }
   ],
   "source": [
    "from matplotlib import pyplot as plt\n",
    "from bemppUQ.utils.login import tensorize\n",
    "\n",
    "fig, ax  = plt.subplots(1,1, figsize=(6,6))\n",
    "\n",
    "FFp = Umeans  + 3 * np.sqrt(np.abs(Uvars))\n",
    "FFm = Umeans  - 3 * np.sqrt(np.abs(Uvars))\n",
    "\n",
    "angles = config['angles']\n",
    "\n",
    "cs = 10 * np.log10(4 * np.pi * np.abs(Umeans)**2)\n",
    "cs_FOAp = 10 * np.log10(4 * np.pi * np.abs(FFp)**2)\n",
    "cs_FOAm = 10 * np.log10(4 * np.pi * np.abs(FFm)**2)\n",
    "\n",
    "\n",
    "ax.plot(angles, cs, '-r', label='Mean')\n",
    "ax.plot(angles,cs_FOAp, '--b', label='FOAp')\n",
    "ax.plot(angles,cs_FOAm, '--b', label='FOAm')\n",
    "\n",
    "ax.set_title(r'$\\mathrm{RCS}_z(\\theta)$: BEM (red) \\pm analytic (blue)', fontsize=14)\n",
    "\n",
    "ax.set_xlabel(r'$\\theta$ (rad)', fontsize=14)\n",
    "ax.set_ylabel(r'$\\mathrm{RCS}_z(\\theta)$', fontsize=14)\n",
    "\n",
    "ax.legend()\n",
    "ax.grid()\n",
    "\n",
    "plt.show(block=False)"
   ]
  },
  {
   "cell_type": "code",
   "execution_count": 49,
   "metadata": {},
   "outputs": [
    {
     "name": "stderr",
     "output_type": "stream",
     "text": [
      "/usr/lib/python3/dist-packages/matplotlib/axes/_axes.py:519: UserWarning: No labelled objects found. Use label='...' kwarg on individual plots.\n",
      "  warnings.warn(\"No labelled objects found. \"\n"
     ]
    },
    {
     "data": {
      "image/png": "[encoded data removed]",
      "text/plain": [
       "<matplotlib.figure.Figure at 0x7fb6b01e1780>"
      ]
     },
     "metadata": {},
     "output_type": "display_data"
    }
   ],
   "source": [
    "from matplotlib import pyplot as plt\n",
    "\n",
    "fig, (ax1, ax2)  = plt.subplots(1,2, figsize=(12,6))\n",
    "\n",
    "cs = 10 * np.log10(4 * np.pi * np.abs(Umeans)**2)\n",
    "\n",
    "ax1.plot(angles, cs)\n",
    "\n",
    "y = np.sqrt(np.abs(Uvars))\n",
    "ax2.plot(angles, y)\n",
    "\n",
    "ax2.set_xlabel(r'$\\theta$ (rad)', fontsize=14)\n",
    "ax2.set_ylabel(r'$\\mathrm{RCS}_z(\\theta)$', fontsize=14)\n",
    "\n",
    "\n",
    "ax1.set_xlabel(r'$\\theta$ (rad)', fontsize=14)\n",
    "ax1.set_ylabel(r'$\\mathrm{RCS}(\\theta)$', fontsize=14)\n",
    "\n",
    "ax1.legend()\n",
    "ax1.grid()\n",
    "\n",
    "ax2.legend()\n",
    "ax2.grid()\n",
    "ax2.set_ylim(0, 0.006)\n",
    "\n",
    "plt.show(block=False)\n"
   ]
  },
  {
   "cell_type": "code",
   "execution_count": null,
   "metadata": {},
   "outputs": [],
   "source": []
  }
 ],
 "metadata": {
  "kernelspec": {
   "display_name": "Python 3",
   "language": "python",
   "name": "python3"
  },
  "language_info": {
   "codemirror_mode": {
    "name": "ipython",
    "version": 3
   },
   "file_extension": ".py",
   "mimetype": "text/x-python",
   "name": "python",
   "nbconvert_exporter": "python",
   "pygments_lexer": "ipython3",
   "version": "3.5.2"
  }
 },
 "nbformat": 4,
 "nbformat_minor": 2
}
