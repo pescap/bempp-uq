{
 "cells": [
  {
   "cell_type": "markdown",
   "metadata": {},
   "source": [
    "# SD for the Sound-soft scattering\n",
    "\n",
    "For a suitably defined perturbation of the initial shape, we compare the RCSs of $\\text{U}_t$ versus $\\text{U}$ the zeroth order approximation and $(\\text{U} + t \\text{U}')$ the FOA. In this tutorial we consider the kite-shaped object and the perturbation field of Subsection 7.1."
   ]
  },
  {
   "cell_type": "code",
   "execution_count": 28,
   "metadata": {},
   "outputs": [],
   "source": [
    "import bempp.api as bem\n",
    "import numpy as np\n",
    "from kite import kite\n",
    "from matplotlib import pyplot as plt\n",
    "%matplotlib inline"
   ]
  },
  {
   "cell_type": "markdown",
   "metadata": {},
   "source": [
    "Set the parameters for the H-mat assembly and gmres:"
   ]
  },
  {
   "cell_type": "code",
   "execution_count": 29,
   "metadata": {},
   "outputs": [],
   "source": [
    "bem.global_parameters.hmat.max_block_size = 1000\n",
    "bem.global_parameters.hmat.eps = 0.00001\n",
    "\n",
    "maxiter = 2000\n",
    "restart = 2000"
   ]
  },
  {
   "cell_type": "markdown",
   "metadata": {},
   "source": [
    "Set the wavenumber $\\kappa$ and the evaluation points for the RCS."
   ]
  },
  {
   "cell_type": "code",
   "execution_count": 41,
   "metadata": {},
   "outputs": [],
   "source": [
    "k0 = 1 #wavenumber\n",
    "precision = 20 #number of elements per waveleng\n",
    "\n",
    "tolerance = 1E-4\n",
    "h = 2.0 * np.pi / (precision * k0)\n",
    "\n",
    "t = 0.05\n",
    "theta = np.linspace(0, 2 * np.pi, 400)\n",
    "points = np.array([np.cos(theta), np.sin(theta), np.zeros(len(theta))])\n"
   ]
  },
  {
   "cell_type": "markdown",
   "metadata": {},
   "source": [
    "We define the perturbation field $\\mathbf{v}$ and set a routine that transforms the geometry of the original mesh. Then, we introduce the Cauchy data."
   ]
  },
  {
   "cell_type": "code",
   "execution_count": 42,
   "metadata": {},
   "outputs": [],
   "source": [
    "def change_normal(elements):\n",
    "    return np.array([elements[0,:],elements[2,:],elements[1,:]])\n",
    "\n",
    "def Phix(x, n, domain_index, result):\n",
    "    angle = np.arctan2(x[1],x[0]) \n",
    "    x1 =  (1-x[2]**2) * (np.cos(2 * angle) - 1)\n",
    "    result[0] = x1\n",
    "\n",
    "def Phiy(x, n, domain_index, result):\n",
    "    angle =  np.arctan2(x[1],x[0]) \n",
    "    y1 = 0.25 * np.sin(angle) *  (1- x[2]**2)\n",
    "    result[0] = y1\n",
    "\n",
    "def perturbate(grid, t, kappa_pert=None):\n",
    "    P1 = bem.function_space(grid, 'P', 1)\n",
    "    grid_funx = bem.GridFunction(P1, fun = Phix)\n",
    "    grid_funy = bem.GridFunction(P1, fun = Phiy)\n",
    "    elements = grid.leaf_view.elements\n",
    "    vertices = grid.leaf_view.vertices\n",
    "    normals = P1.global_dof_normals\n",
    "    x, y, z = vertices\n",
    "    vertices[0, :] = x + t * grid_funx.coefficients\n",
    "    vertices[1, :] = y + t * grid_funy.coefficients\n",
    "\n",
    "    c = normals[0,:] * grid_funx.coefficients + normals[1,:] * grid_funy.coefficients\n",
    "\n",
    "    kappa = bem.GridFunction(P1, coefficients = c)\n",
    "    if kappa_pert is None:\n",
    "        return bem.grid_from_element_data(vertices, elements)\n",
    "    else:\n",
    "        return bem.grid_from_element_data(vertices, elements), kappa\n",
    "\n",
    "def dirichlet_fun(x, n, domain_index, result):\n",
    "    result[0] = np.exp(1j * k0 * x[0])\n",
    "\n",
    "def neumann_fun(x, n, domain_index, result):\n",
    "    result[0] = 1j * k0 * np.exp(1j * k0 * x[0]) * n[0]\n",
    "\n"
   ]
  },
  {
   "cell_type": "markdown",
   "metadata": {},
   "source": [
    "We discretize the BIEs related to $\\text{U}$ and $\\text{U}'$, namely:\n",
    "\n",
    "$$ \\text{V}_\\kappa \\gamma_1 \\text{U} = \\gamma_0 \\text{U}^\\text{inc},$$\n",
    "and\n",
    "$$ \\text{V}_\\kappa \\gamma_1 \\text{U}' = \\Big(-\\frac{1}{2}\\text{Id} + \\text{K}_\\kappa\\Big)g_0,$$\n",
    "with \n",
    "$$\n",
    "g_0 := - \\gamma_1\\text{U}(\\mathbf{v}\\cdot\\mathbf{n}).\n",
    "$$\n"
   ]
  },
  {
   "cell_type": "code",
   "execution_count": 43,
   "metadata": {},
   "outputs": [
    {
     "name": "stdout",
     "output_type": "stream",
     "text": [
      "183 N\n"
     ]
    }
   ],
   "source": [
    "#gr = bem.shapes.sphere(h=h)\n",
    "gr = kite(h=h)\n",
    "\n",
    "gr, kappa  = perturbate(gr, 0, kappa_pert=1)\n",
    "sp = bem.function_space(gr, 'P', 1)\n",
    "\n",
    "print int(sp.global_dof_count), 'N'\n",
    "\n",
    "V = bem.operators.boundary.helmholtz.single_layer(sp, sp, sp, k0)\n",
    "K = bem.operators.boundary.helmholtz.double_layer(sp, sp, sp, k0)\n",
    "W = bem.operators.boundary.helmholtz.hypersingular(sp, sp, sp, k0)\n",
    "I = bem.operators.boundary.sparse.identity(sp, sp, sp)\n",
    "\n",
    "# rhs for the nominal domain\n",
    "df =  bem.GridFunction(sp, fun = dirichlet_fun)\n",
    "\n",
    "max_incident = np.abs(df.coefficients).max()\n",
    "\n",
    "# solver for the nominal domain\n",
    "phi0, info, res = bem.linalg.gmres(W * V, W * df, tol=tolerance, return_residuals=True, use_strong_form=True, maxiter=maxiter, restart = restart)\n",
    "ref0 = phi0.l2_norm()\n",
    "\n",
    "# rhs for the SD\n",
    "fun1 = bem.GridFunction(sp, coefficients = kappa.coefficients * phi0.coefficients)\n",
    "rhs1 = -0.5 * I + K\n",
    "rhsp = rhs1 * (-fun1)\n",
    "\n",
    "# solver for the SD\n",
    "phi1, info, res = bem.linalg.gmres(W * V, W * rhsp, tol=tolerance, return_residuals=True, use_strong_form=True, maxiter=maxiter, restart = restart)\n",
    "\n",
    "# Volume solution:\n",
    "slp_far_field = bem.operators.far_field.helmholtz.single_layer(sp, points, k0)\n",
    "dlp_far_field = bem.operators.far_field.helmholtz.double_layer(sp, points, k0)\n",
    "\n",
    "U0 = -slp_far_field * phi0 \n",
    "U1 =  -slp_far_field * phi1 + dlp_far_field * (-fun1)\n",
    "\n",
    "rp0 = (np.abs(U0)**2).ravel()\n",
    "dbp0 = 10 * np.log10(4 * np.pi * (rp0/max_incident)**2)\n",
    "\n",
    "rpp = (np.abs(U1)**2).ravel()\n",
    "dbpp = 10 * np.log10(4 * np.pi * (rpp/max_incident)**2)\n"
   ]
  },
  {
   "cell_type": "markdown",
   "metadata": {},
   "source": [
    "Now, we perturb the nominal shape and solve the scattering problem:"
   ]
  },
  {
   "cell_type": "code",
   "execution_count": 44,
   "metadata": {},
   "outputs": [],
   "source": [
    "grt = perturbate(gr, t)\n",
    "spt = bem.function_space(grt, 'P', 1)\t\n",
    "\n",
    "Vt = bem.operators.boundary.helmholtz.single_layer(spt, spt, spt, k0)\n",
    "Kt = bem.operators.boundary.helmholtz.double_layer(spt, spt, spt, k0)\n",
    "Wt = bem.operators.boundary.helmholtz.hypersingular(spt, spt, spt, k0)\n",
    "It = bem.operators.boundary.sparse.identity(spt, spt, spt)\n",
    "\n",
    "dft =  bem.GridFunction(spt , fun = dirichlet_fun)\n",
    "phit, infot, rest = bem.linalg.gmres(Wt * Vt, Wt *  dft, tol=tolerance, return_residuals=True, use_strong_form=True, maxiter=maxiter, restart=restart)\n",
    "\n",
    "slp_far_fieldt = bem.operators.far_field.helmholtz.single_layer(spt, points, k0)\n",
    "\n",
    "Ut = -slp_far_fieldt * phit \n",
    "rpt = np.abs(Ut).ravel()\n",
    "dbpt = 10 * np.log10(4 * np.pi * (rpt/max_incident)**2)\n",
    "\n",
    "err0 = np.abs(U0 - Ut).sum() / np.abs(Ut).sum()\n",
    "\n",
    "\n",
    "U1p = U0 + t * U1\n",
    "rptp = np.abs(U1p).ravel()\n",
    "dbptp = 10 * np.log10(4 * np.pi * (rptp/max_incident)**2)\n",
    "\n",
    "err1 = np.abs(U1p - Ut).sum() / np.abs(Ut).sum()\n",
    "\n"
   ]
  },
  {
   "cell_type": "markdown",
   "metadata": {},
   "source": [
    "We compare the Relative $L^2$-error on $\\mathbb{S}^1$ of the far-field:"
   ]
  },
  {
   "cell_type": "code",
   "execution_count": 45,
   "metadata": {},
   "outputs": [
    {
     "name": "stdout",
     "output_type": "stream",
     "text": [
      "0.0233391781021 zeroth order error\n",
      "0.00194047535028 first order error\n"
     ]
    }
   ],
   "source": [
    "print err0, 'zeroth order error'\n",
    "print err1, 'first order error'"
   ]
  },
  {
   "cell_type": "markdown",
   "metadata": {},
   "source": [
    "We plot the RCS patterns (in dB):"
   ]
  },
  {
   "cell_type": "code",
   "execution_count": 46,
   "metadata": {},
   "outputs": [
    {
     "data": {
      "text/plain": [
       "<matplotlib.legend.Legend at 0x7f4aed181f10>"
      ]
     },
     "execution_count": 46,
     "metadata": {},
     "output_type": "execute_result"
    },
    {
     "data": {
      "image/png": "[encoded data removed]",
      "text/plain": [
       "<matplotlib.figure.Figure at 0x7f4aed206cd0>"
      ]
     },
     "metadata": {},
     "output_type": "display_data"
    }
   ],
   "source": [
    "fig = plt.figure(figsize=(12,6))\n",
    "ax1 = fig.add_subplot(111, projection='polar')\n",
    "ax1.plot(theta, dbpt, 'k', label=r'U$_t$')\n",
    "ax1.plot(theta, dbp0, 'r',label=r'U')\n",
    "ax1.plot(theta, dbptp, 'b', label=r\"U$+t$U'\")\n",
    "plt.legend()"
   ]
  }
 ],
 "metadata": {
  "kernelspec": {
   "display_name": "Python 2",
   "language": "python",
   "name": "python2"
  },
  "language_info": {
   "codemirror_mode": {
    "name": "ipython",
    "version": 2
   },
   "file_extension": ".py",
   "mimetype": "text/x-python",
   "name": "python",
   "nbconvert_exporter": "python",
   "pygments_lexer": "ipython2",
   "version": "2.7.12"
  }
 },
 "nbformat": 4,
 "nbformat_minor": 2
}
