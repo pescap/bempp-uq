{
 "cells": [
  {
   "cell_type": "code",
   "execution_count": 1,
   "metadata": {},
   "outputs": [
    {
     "name": "stdout",
     "output_type": "stream",
     "text": [
      "hmat\n"
     ]
    },
    {
     "name": "stderr",
     "output_type": "stream",
     "text": [
      "/usr/lib/python2.7/dist-packages/scipy/sparse/linalg/dsolve/linsolve.py:243: SparseEfficiencyWarning: splu requires CSC matrix format\n",
      "  warn('splu requires CSC matrix format', SparseEfficiencyWarning)\n"
     ]
    },
    {
     "name": "stdout",
     "output_type": "stream",
     "text": [
      "iteration - 1 || residual - 0.895181020496\n",
      "iteration - 2 || residual - 0.278984934911\n",
      "iteration - 3 || residual - 0.260424066561\n",
      "iteration - 4 || residual - 0.0816753954977\n",
      "iteration - 5 || residual - 0.0616469428373\n",
      "iteration - 6 || residual - 0.0122587196963\n",
      "iteration - 7 || residual - 0.010386846177\n",
      "iteration - 8 || residual - 0.00336986382098\n",
      "iteration - 9 || residual - 0.00274378400231\n",
      "iteration - 10 || residual - 0.000322985193764\n",
      "iteration - 11 || residual - 0.000270003092911\n",
      "iteration - 12 || residual - 6.14807065583e-05\n",
      "iteration - 13 || residual - 5.57876069973e-05\n",
      "iteration - 14 || residual - 6.39093812473e-06\n",
      "iteration - 15 || residual - 6.25070110241e-06\n",
      "iteration - 16 || residual - 7.52423833396e-07\n",
      "iteration - 17 || residual - 7.35952044771e-07\n",
      "iteration - 18 || residual - 2.00199940728e-07\n",
      "iteration - 19 || residual - 1.89441282166e-07\n",
      "iteration - 20 || residual - 1.50010629032e-08\n",
      "iteration - 21 || residual - 1.30857194878e-08\n",
      "iteration - 22 || residual - 2.27620618652e-09\n"
     ]
    }
   ],
   "source": [
    "\n",
    "from __future__ import division\n",
    "import numpy as np\n",
    "import scipy.linalg\n",
    "import bempp.api as bem\n",
    "import scipy \n",
    "\n",
    "maxiter = 10000\n",
    "restart = 10000\n",
    "tolerance =  1e-08\n",
    "\n",
    "kExt = 1.\n",
    "kInt = 2.\n",
    "rhoExt = 1\n",
    "rhoInt = 1\n",
    "R = 1\n",
    "\n",
    "alpha = rhoInt / rhoExt\n",
    "\n",
    "l_max = 200\n",
    "l = np.arange(0, l_max + 1)\n",
    "\n",
    "\n",
    "def rescale(A, alpha):\n",
    "    \"\"\"Rescale the 2x2 block operator matrix A\"\"\"\n",
    "    A[0, 1] = A[0, 1] * alpha\n",
    "    A[1, 0] = A[1, 0] * (1/alpha)\n",
    "    return A\n",
    "\n",
    "bem.global_parameters.hmat.max_block_size = 1000\n",
    "\n",
    "\n",
    "def dirichlet_fun(x, n, domain_index, result):\n",
    "    result[0] = np.exp(1j * kExt * x[0])\n",
    "\n",
    "def neumann_fun(x, n, domain_index, result):\n",
    "    result[0] = 1j * kExt * np.exp(1j * kExt * x[0]) * n[0]\n",
    "\n",
    "from scipy.sparse.linalg import LinearOperator\n",
    "class DenseTensorLinearOperator(LinearOperator):\n",
    "    \n",
    "    def __init__(self, A0, A1):\n",
    "        self.A0 = A0\n",
    "        self.A1 = A1\n",
    "        self.n0 = self.A0.shape[0]\n",
    "        self.n1 = self.A1.shape[0]\n",
    "        self.shape = self.n0*self.n1, self.n0*self.n1\n",
    "        self.dtype = self.A0.dtype\n",
    "\n",
    "    def _matvec(self, x):\n",
    "        n0 = self.A0.shape[0]\n",
    "        n1 = self.A1.shape[0]\n",
    "        xbis0 = x.reshape([n0, n1])\n",
    "        ytemp = self.A0 * xbis0\n",
    "        ztemp = (self.A1 * ytemp.T).T.reshape(n0*n1)\n",
    "        return ztemp\n",
    "\n",
    "#bem.global_parameters.assembly.boundary_operator_assembly_type = 'dense'\n",
    "print bem.global_parameters.assembly.boundary_operator_assembly_type\n",
    "\n",
    "nQuad = 3\n",
    "bem.global_parameters.quadrature.near.single_order = nQuad+2\n",
    "bem.global_parameters.quadrature.near.double_order = nQuad+2\n",
    "bem.global_parameters.quadrature.medium.single_order = nQuad+1\n",
    "bem.global_parameters.quadrature.medium.double_order = nQuad+1\n",
    "bem.global_parameters.quadrature.far.single_order = nQuad\n",
    "bem.global_parameters.quadrature.far.double_order = nQuad\n",
    "\n",
    "\n",
    "\n",
    "from projection import refine, discrete_coefficients_projection\n",
    "\n",
    "\n",
    "h0 = 1\n",
    "h1 = 0.8\n",
    "\n",
    "grid = bem.shapes.sphere(h=h0)\n",
    "space = bem.function_space(grid, \"P\", 1)\n",
    "AExt = bem.operators.boundary.helmholtz.multitrace_operator(grid, kExt)\n",
    "I  = bem.operators.boundary.sparse.multitrace_identity(grid, spaces='linear')\n",
    "AInt = bem.operators.boundary.helmholtz.multitrace_operator(grid, kInt)\n",
    "STF = rescale(AInt, alpha) + AExt\n",
    "dirichlet_grid_fun = bem.GridFunction(space, fun=dirichlet_fun)\n",
    "neumann_grid_fun = bem.GridFunction(space, fun=neumann_fun)\n",
    "rhs = [dirichlet_grid_fun, neumann_grid_fun]\n",
    "rhs = np.concatenate([(STF * rhs )[0].coefficients,(STF * rhs)[1].coefficients], axis=0)\n",
    "\n",
    "rhs0 = rhs\n",
    "A0 = STF.strong_form()\n",
    "\n",
    "grid = bem.shapes.sphere(h=h1)\n",
    "space = bem.function_space(grid, \"P\", 1)\n",
    "AExt = bem.operators.boundary.helmholtz.multitrace_operator(grid, kExt)\n",
    "I  = bem.operators.boundary.sparse.multitrace_identity(grid, spaces='linear')\n",
    "AInt = bem.operators.boundary.helmholtz.multitrace_operator(grid, kInt)\n",
    "STF = rescale(AInt, alpha) + AExt\n",
    "dirichlet_grid_fun = bem.GridFunction(space, fun=dirichlet_fun)\n",
    "neumann_grid_fun = bem.GridFunction(space, fun=neumann_fun)\n",
    "rhs = [dirichlet_grid_fun, neumann_grid_fun]\n",
    "rhs = np.concatenate([(STF * rhs )[0].coefficients,(STF * rhs)[1].coefficients], axis=0)\n",
    "rhs1 = rhs\n",
    "A1 = STF.strong_form()\n",
    "\n",
    "A = DenseTensorLinearOperator(A0, A1)\n",
    "rhs= np.dot(np.array([rhs0]).T, np.array([rhs1]))\n",
    "\n",
    "import time \n",
    "t0 = time.time()\n",
    "from login import gmres\n",
    "x, info, res = gmres( A ,rhs.ravel(), tol=tolerance, return_residuals=True,  maxiter=maxiter, restart=restart)\n",
    "t0 = time.time()-t0\n"
   ]
  },
  {
   "cell_type": "code",
   "execution_count": 2,
   "metadata": {},
   "outputs": [
    {
     "data": {
      "text/plain": [
       "(52, 52)"
      ]
     },
     "execution_count": 2,
     "metadata": {},
     "output_type": "execute_result"
    }
   ],
   "source": [
    "A.n0,A.n1"
   ]
  },
  {
   "cell_type": "code",
   "execution_count": 3,
   "metadata": {},
   "outputs": [
    {
     "data": {
      "text/plain": [
       "(52, 52)"
      ]
     },
     "execution_count": 3,
     "metadata": {},
     "output_type": "execute_result"
    }
   ],
   "source": [
    "rhs.shape"
   ]
  },
  {
   "cell_type": "code",
   "execution_count": null,
   "metadata": {},
   "outputs": [],
   "source": []
  }
 ],
 "metadata": {
  "kernelspec": {
   "display_name": "Python 2",
   "language": "python",
   "name": "python2"
  },
  "language_info": {
   "codemirror_mode": {
    "name": "ipython",
    "version": 2
   },
   "file_extension": ".py",
   "mimetype": "text/x-python",
   "name": "python",
   "nbconvert_exporter": "python",
   "pygments_lexer": "ipython2",
   "version": "2.7.12"
  }
 },
 "nbformat": 4,
 "nbformat_minor": 2
}
