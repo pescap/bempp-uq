{
 "cells": [
  {
   "cell_type": "code",
   "execution_count": 30,
   "metadata": {},
   "outputs": [],
   "source": [
    "import bempp.api\n",
    "import numpy as np\n",
    "\n",
    "import sys\n",
    "sys.path.append('../../')\n",
    "from decimal import *\n",
    "\n",
    "import bemppUQ\n",
    "from bemppUQ.config import config\n",
    "from bemppUQ.operators.maxwell import assemble_operators, evaluate_far_field\n",
    "\n",
    "bempp.api.global_parameters.hmat.eps = 1E-5\n",
    "\n",
    "from bemppUQ.utils.mie import bhmie\n"
   ]
  },
  {
   "cell_type": "code",
   "execution_count": 31,
   "metadata": {},
   "outputs": [
    {
     "name": "stdout",
     "output_type": "stream",
     "text": [
      "The exterior wavenumber is: 5.0\n",
      "The interior wavenumber is: 6.892024376045111\n",
      "----\n",
      "The exterior wavelenght is: 1.2566370614359172\n",
      "The exterior frequency is: 2.39E+8\n"
     ]
    }
   ],
   "source": [
    "k_ext, k_int = config[\"k_ext\"], config[\"k_int\"]\n",
    "lambda_par, freq = config[\"lambda\"], config[\"frequency\"]\n",
    "polarization = config[\"polarization\"]\n",
    "direction = config[\"direction\"]\n",
    "\n",
    "eps_rel = config[\"eps_rel\"]\n",
    "mu_rel = config[\"mu_rel\"]\n",
    "print(\"The exterior wavenumber is: {0}\".format(k_ext))\n",
    "print(\"The interior wavenumber is: {0}\".format(k_int))\n",
    "\n",
    "print(\"----\")\n",
    "print(\"The exterior wavelenght is: {0}\".format(lambda_par))\n",
    "print(\"The exterior frequency is: {:.2E}\".format(Decimal(freq)))\n"
   ]
  },
  {
   "cell_type": "code",
   "execution_count": 32,
   "metadata": {},
   "outputs": [
    {
     "name": "stdout",
     "output_type": "stream",
     "text": [
      "6012\n",
      "iteration - 1 || residual - 0.2345693459484499 0.49098896980285645\n",
      "iteration - 2 || residual - 0.07652817338151993 0.16765236854553223\n",
      "iteration - 3 || residual - 0.036722072271319246 0.16371369361877441\n",
      "iteration - 4 || residual - 0.015784655276074637 0.16578459739685059\n",
      "iteration - 5 || residual - 0.007157556868332022 0.16904759407043457\n",
      "iteration - 6 || residual - 0.0037519497538213483 0.17826533317565918\n",
      "iteration - 7 || residual - 0.0018139628077010514 0.16513419151306152\n",
      "iteration - 8 || residual - 0.0007442855176087698 0.16797351837158203\n",
      "iteration - 9 || residual - 0.00035360225261881883 0.16670751571655273\n",
      "iteration - 10 || residual - 0.00019332796237451363 0.1595606803894043\n",
      "iteration - 11 || residual - 0.0001164464925471222 0.16997838020324707\n",
      "iteration - 12 || residual - 7.662203179190906e-05 0.16872429847717285\n",
      "iteration - 13 || residual - 4.62147690138945e-05 0.16485166549682617\n",
      "iteration - 14 || residual - 2.8773426796606212e-05 0.1630692481994629\n",
      "iteration - 15 || residual - 1.9754092728677707e-05 0.1699385643005371\n",
      "iteration - 16 || residual - 1.2718076477462527e-05 0.18558216094970703\n",
      "iteration - 17 || residual - 8.281894909017995e-06 0.16505837440490723\n"
     ]
    }
   ],
   "source": [
    "precision = 10\n",
    "h = 2.0 * np.pi / (precision * config[\"k_int\"])\n",
    "\n",
    "grid = bempp.api.shapes.sphere(h=h)\n",
    "k_int, k_ext = config['k_int'], config['k_ext']\n",
    "print(grid.leaf_view.entity_count(1))\n",
    "n = k_int / k_ext\n",
    "refIndex = n\n",
    "numAngles = 901\n",
    "s1,s2,qext,qsca,qback,gsca=bhmie(k_ext,k_int / k_ext,numAngles)\n",
    "transmission_operators = assemble_operators(grid, config)\n",
    "far_field, solution = evaluate_far_field(transmission_operators, config)"
   ]
  },
  {
   "cell_type": "code",
   "execution_count": 33,
   "metadata": {},
   "outputs": [
    {
     "data": {
      "image/png": "[encoded data removed]",
      "text/plain": [
       "<Figure size 432x432 with 1 Axes>"
      ]
     },
     "metadata": {},
     "output_type": "display_data"
    }
   ],
   "source": [
    "from matplotlib import pyplot as plt\n",
    "from mpl_toolkits.axes_grid1 import make_axes_locatable\n",
    "\n",
    "angles = config['angles']\n",
    "k_ext = config['k_ext']\n",
    "\n",
    "fig, ax  = plt.subplots(1,1, figsize=(6,6))\n",
    "\n",
    "#A22 = -1j * k_ext * far_field[2,:]   # -1j * kExt is to make agree with eqn 3.21 p70 tBohren and Huffman\n",
    "A22 = - 1j * k_ext * far_field[2,:]   # -1j * kExt is to make agree with eqn 3.21 p70 tBohren and Huffman\n",
    "\n",
    "plt.rcParams['figure.figsize'] = (15, 4) # Increase the figure size in the notebook\n",
    "\n",
    "ax.semilogy(angles[:1801],abs(4 * np.pi * s1)**2,'-r')\n",
    "ax.semilogy(angles[:1801],abs(A22[:1801])**2,'--b')\n",
    "ax.set_title('$A_{22}$: Mie (red) vs. BEM (blue)')\n",
    "\n",
    "plt.legend()\n",
    "plt.show() "
   ]
  },
  {
   "cell_type": "code",
   "execution_count": 10,
   "metadata": {},
   "outputs": [
    {
     "name": "stdout",
     "output_type": "stream",
     "text": [
      "Starting run for precision:  60\n",
      "Ndof:  204234\n",
      "iteration - 1 || residual - 0.23350164689444813 9.008702754974365\n",
      "iteration - 2 || residual - 0.07609745342032043 2.955658197402954\n",
      "iteration - 3 || residual - 0.03649322687000782 2.8858706951141357\n",
      "iteration - 4 || residual - 0.015515784093361518 2.9581987857818604\n",
      "iteration - 5 || residual - 0.007009858883255086 2.896324396133423\n",
      "iteration - 6 || residual - 0.003691531171746592 2.924980401992798\n",
      "iteration - 7 || residual - 0.001737757324873765 2.9108831882476807\n",
      "iteration - 8 || residual - 0.0006946989981537955 2.930227756500244\n",
      "iteration - 9 || residual - 0.0003295785530122627 3.018831253051758\n",
      "iteration - 10 || residual - 0.00018578392550993125 2.9316437244415283\n",
      "iteration - 11 || residual - 0.00014076945310485196 2.9441685676574707\n",
      "iteration - 12 || residual - 0.00011739833719186715 2.899364709854126\n",
      "iteration - 13 || residual - 8.604597043973228e-05 2.9437344074249268\n",
      "iteration - 14 || residual - 5.435976017056502e-05 2.93821382522583\n",
      "iteration - 15 || residual - 4.085539394488944e-05 2.9577999114990234\n",
      "iteration - 16 || residual - 3.0470183408610122e-05 2.9437081813812256\n",
      "iteration - 17 || residual - 2.1107166149410033e-05 2.913769006729126\n",
      "iteration - 18 || residual - 1.6295261879484548e-05 2.997208595275879\n",
      "iteration - 19 || residual - 1.2250244880619984e-05 2.987149477005005\n",
      "iteration - 20 || residual - 9.220244813179995e-06 2.979663848876953\n"
     ]
    }
   ],
   "source": [
    "precision_list = [60]\n",
    "\n",
    "for precision in precision_list:\n",
    "    h = 2*np.pi/(precision*k_ext)\n",
    "    print('Starting run for precision: ', precision)\n",
    "    \n",
    "    grid = bempp.api.shapes.sphere(h=h)\n",
    "    N =  2 * grid.leaf_view.entity_count(1)\n",
    "    print('Ndof: ', N)\n",
    "    \n",
    "    transmission_operators = assemble_operators(grid, config)\n",
    "    far_field, solution = evaluate_far_field(transmission_operators, config)\n",
    "    \n",
    "    A22 = - 1j * k_ext * far_field[2,:]\n",
    "    \n",
    "    name = (\n",
    "    \"results/\"\n",
    "        + \"precision\"\n",
    "    + str(precision)\n",
    "    )\n",
    "\n",
    "    my_dict = {\n",
    "            \"A22\": A22,\n",
    "            \"h\": h,\n",
    "            \"N\": N,        \n",
    "        }\n",
    "\n",
    "    np.save(name + \".npy\", my_dict)        "
   ]
  }
 ],
 "metadata": {
  "kernelspec": {
   "display_name": "Python 3",
   "language": "python",
   "name": "python3"
  },
  "language_info": {
   "codemirror_mode": {
    "name": "ipython",
    "version": 3
   },
   "file_extension": ".py",
   "mimetype": "text/x-python",
   "name": "python",
   "nbconvert_exporter": "python",
   "pygments_lexer": "ipython3",
   "version": "3.5.2"
  }
 },
 "nbformat": 4,
 "nbformat_minor": 2
}
