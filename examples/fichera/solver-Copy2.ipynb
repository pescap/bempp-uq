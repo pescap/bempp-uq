{
 "cells": [
  {
   "cell_type": "code",
   "execution_count": 1,
   "metadata": {},
   "outputs": [
    {
     "name": "stdout",
     "output_type": "stream",
     "text": [
      "3204 3204 10265616\n"
     ]
    }
   ],
   "source": [
    "import bempp.api\n",
    "import numpy as np\n",
    "\n",
    "import sys\n",
    "sys.path.append('../../')\n",
    "from decimal import *\n",
    "\n",
    "import bemppUQ\n",
    "from bemppUQ.operators.maxwell import assemble_operators, evaluate_far_field, evaluate_far_field_sd\n",
    "\n",
    "bempp.api.global_parameters.assembly.potential_operator_assembly_type = 'dense'\n",
    "bempp.api.global_parameters.hmat.eps = 1E-4\n",
    "\n",
    "\n",
    "from bemppUQ.shapes import reentrant_cube_exterior\n",
    "\n",
    "def function(x, y, i, j):\n",
    "    zx = 0\n",
    "    zy = 0\n",
    "    if i == 0:\n",
    "        zx = np.sin(x * np.pi * 2)\n",
    "    if i == 1:\n",
    "        if x <= 0.25:\n",
    "            zx = np.sin(x * np.pi * 4)\n",
    "    if i == 2:\n",
    "        if x > 0.25:\n",
    "            zx = -np.sin(x * np.pi * 4)\n",
    "    if i == 3:\n",
    "        if x <= 0.5 / 3.:\n",
    "            zx = np.sin(x * np.pi * 6)\n",
    "    if i == 4:\n",
    "        if x > 0.5 / 3. and x <= 1 / 3.:\n",
    "            zx = -np.sin(x * np.pi * 6)\n",
    "    if i ==5:\n",
    "        if x > 1/3.:\n",
    "            zx = np.sin(x * np.pi * 6)\n",
    "\n",
    "    if j == 0:\n",
    "        zy = np.sin(y * np.pi * 2)\n",
    "\n",
    "    if j == 1:\n",
    "        if y <= 0.25:\n",
    "            zy = np.sin(y * np.pi * 4)\n",
    "\n",
    "    if j == 2:\n",
    "        if y > 0.25:\n",
    "            zy = -np.sin(y * np.pi * 4)\n",
    "    \n",
    "    if j == 3:\n",
    "        if y <= 0.5 / 3.:\n",
    "            zy = np.sin(y * np.pi * 6)\n",
    "\n",
    "    if j == 4:\n",
    "        if y > 0.5 / 3. and y <= 1 / 3.:\n",
    "            zy = -np.sin(y * np.pi * 6)\n",
    "    if j == 5:\n",
    "        if y > 1/3.:\n",
    "            zy = np.sin(y * np.pi * 6)\n",
    "\n",
    "    return zx * zy\n",
    "\n",
    "\n",
    "# Def random:\n",
    "\n",
    "def Phiz(point, n, domain_index, result):\n",
    "    x, y, z = point\n",
    "\n",
    "    res = 0j\n",
    "    if z == 0.5 and (x <= 0.5) and (y <= 0.5):\n",
    "        for ii in range(6):\n",
    "            for jj in range(6):\n",
    "                res += Random[ii,jj] * function(x, y, ii,jj)\t\n",
    "    result[0] = res\n",
    "\n",
    "\n",
    "\n",
    "def perturbate(grid, t, kappa_pert=None):\n",
    "    P1 = bempp.api.function_space(grid, 'B-P', 1)\n",
    "    grid_funz = bempp.api.GridFunction(P1, fun = Phiz)\n",
    "    elements = grid.leaf_view.elements\n",
    "    vertices = grid.leaf_view.vertices\n",
    "    normals = P1.global_dof_normals\n",
    "    x, y, z = vertices\n",
    "    \n",
    "    vertices[2, :] = z + t * grid_funz.coefficients\n",
    "    return bempp.api.grid_from_element_data(vertices, elements)\n",
    "\n",
    "\n",
    "\n",
    "def get_base_grid(h):\n",
    "\n",
    "    gr0 = bempp.api.shapes.reentrant_cube(h=h, refinement_factor=1) \n",
    "    elements0 = list(gr0.leaf_view.entity_iterator(0))\n",
    "    N0 = len(elements0)\n",
    "    tol = h / 10.\n",
    "    for i in range(N0):\n",
    "        el0 = elements0[i]\n",
    "        z = el0.geometry.corners[2]\n",
    "        if np.linalg.norm(np.array([1/2, 1/2, 1/2]) - z) < tol:\n",
    "            gr0.mark(el0)\n",
    "    gr1 = gr0.refine()\n",
    "\n",
    "\n",
    "    elements0 = list(gr1.leaf_view.entity_iterator(0))\n",
    "    N0 = len(elements0)\n",
    "    for i in range(N0):\n",
    "        el0 = elements0[i]\n",
    "        z = el0.geometry.corners[2]\n",
    "        if np.linalg.norm(np.array([1/2, 1/2, 1/2])-z) < tol:\n",
    "            gr1.mark(el0)\n",
    "\n",
    "    base_grid = gr1.refine()\n",
    "    return base_grid\n",
    "\n",
    "\n",
    "config = bemppUQ.config.set_case('A')\n",
    "\n",
    "axis = 0\n",
    "#### define l0 and l1\n",
    "\n",
    "l0 = 2\n",
    "l1 = 2\n",
    "\n",
    "precision_list = [2, 5, 10]\n",
    "\n",
    "precision0 = precision_list[l0]\n",
    "precision1 = precision_list[l1]\n",
    "\n",
    "h0 = 2.0 * np.pi / (precision0 * config[\"k_int\"])\n",
    "h1 = 2.0 * np.pi / (precision1 * config[\"k_int\"])\n",
    "\n",
    "# generate the grids\n",
    "\n",
    "if l0 == 2:\n",
    "    grid0 = get_base_grid(h=h0) \n",
    "else:\n",
    "    grid0 = bempp.api.shapes.reentrant_cube(h=h0, refinement_factor=1) \n",
    "\n",
    "if l1 == 2:\n",
    "    grid1 = get_base_grid(h=h1)\n",
    "else:\n",
    "    grid1 = bempp.api.shapes.reentrant_cube(h=h1, refinement_factor=1) \n",
    "    \n",
    "N0 = 2 * grid0.leaf_view.entity_count(1)\n",
    "N1 = 2 * grid1.leaf_view.entity_count(1)\n",
    "\n",
    "print(N0, N1, N0 * N1)\n",
    "\n",
    "solve = False"
   ]
  },
  {
   "cell_type": "code",
   "execution_count": 2,
   "metadata": {},
   "outputs": [
    {
     "name": "stdout",
     "output_type": "stream",
     "text": [
      "iteration - 1 || residual - 0.145570369404 0.7042975425720215\n",
      "iteration - 2 || residual - 0.0303848264104 0.4438810348510742\n",
      "iteration - 3 || residual - 0.00667101666613 0.3908212184906006\n",
      "iteration - 4 || residual - 0.00108642514403 0.3973221778869629\n",
      "iteration - 5 || residual - 0.000218854097476 0.38612914085388184\n",
      "iteration - 6 || residual - 4.56938052444e-05 0.3803868293762207\n",
      "iteration - 7 || residual - 9.49719737069e-06 0.0018696784973144531\n",
      "iteration - 1 || residual - 0.145570369404 0.7838857173919678\n",
      "iteration - 2 || residual - 0.0303848264104 0.40669751167297363\n",
      "iteration - 3 || residual - 0.00667101666613 0.3961811065673828\n",
      "iteration - 4 || residual - 0.00108642514403 0.42227673530578613\n",
      "iteration - 5 || residual - 0.000218854097476 0.38553357124328613\n",
      "iteration - 6 || residual - 4.56938052444e-05 0.44983792304992676\n",
      "iteration - 7 || residual - 9.49719737069e-06 0.0023543834686279297\n",
      "0 0\n"
     ]
    }
   ],
   "source": [
    "transmission_operators0 = assemble_operators(grid0, config)\n",
    "transmission_operators1 = assemble_operators(grid1, config)\n",
    "\n",
    "\n",
    "Umean0, solution0 = evaluate_far_field(transmission_operators0, config)\n",
    "Umean1, solution1 = evaluate_far_field(transmission_operators1, config)\n",
    "\n",
    "nrank = 1\n",
    "grid_funs0 = []\n",
    "grid_funs1 = []\n",
    "\n",
    "for ii in range(nrank):\n",
    "    for jj in range(nrank):\n",
    "        print(ii,jj)\n",
    "        def fun(point, n, domain_index, result):\n",
    "            x, y, z = point\n",
    "\n",
    "            res = 0j\n",
    "            if z == 0.5 and (x <= 0.5) and (y <= 0.5):\n",
    "                res += function(x, y, ii,jj)\n",
    "            result[0] = res\n",
    "            \n",
    "        space0 = bempp.api.function_space(grid0, 'B-P', 1)\n",
    "        grid_fun0 = bempp.api.GridFunction(space0, fun= fun)\n",
    "        grid_funs0.append(grid_fun0)\n",
    "        \n",
    "        space1 = bempp.api.function_space(grid1, 'B-P', 1)\n",
    "        grid_fun1 = bempp.api.GridFunction(space1, fun= fun)\n",
    "        grid_funs1.append(grid_fun1)"
   ]
  },
  {
   "cell_type": "code",
   "execution_count": 3,
   "metadata": {},
   "outputs": [
    {
     "data": {
      "text/plain": [
       "[<bempp.api.assembly.grid_function.GridFunction at 0x7fd421757e80>]"
      ]
     },
     "execution_count": 3,
     "metadata": {},
     "output_type": "execute_result"
    }
   ],
   "source": [
    "grid_funs0"
   ]
  },
  {
   "cell_type": "code",
   "execution_count": 4,
   "metadata": {},
   "outputs": [
    {
     "name": "stdout",
     "output_type": "stream",
     "text": [
      "0\n",
      "0\n"
     ]
    }
   ],
   "source": [
    "result0 = evaluate_far_field_sd(grid0, transmission_operators0, config, solution0, grid_funs0, solve = solve)\n",
    "result1 = evaluate_far_field_sd(grid1, transmission_operators1, config, solution1, grid_funs1, solve = solve)"
   ]
  },
  {
   "cell_type": "code",
   "execution_count": 5,
   "metadata": {},
   "outputs": [],
   "source": [
    "result0, lhs_op0 = result0\n",
    "result1, lhs_op1 = result1"
   ]
  },
  {
   "cell_type": "code",
   "execution_count": 6,
   "metadata": {},
   "outputs": [],
   "source": [
    "from bemppUQ.assembly.operators import HDenseTensorLinearOperator\n",
    "from bempp.api.assembly.blocked_operator import \\\n",
    "        coefficients_of_grid_function_list, \\\n",
    "        projections_of_grid_function_list, \\\n",
    "        grid_function_list_from_coefficients"
   ]
  },
  {
   "cell_type": "code",
   "execution_count": 7,
   "metadata": {},
   "outputs": [
    {
     "name": "stdout",
     "output_type": "stream",
     "text": [
      "3204\n",
      "3204\n"
     ]
    }
   ],
   "source": [
    "N0 = 2 * grid0.leaf_view.entity_count(1)\n",
    "N1 = 2 * grid1.leaf_view.entity_count(1)\n",
    "\n",
    "print(N0)\n",
    "print(N1)"
   ]
  },
  {
   "cell_type": "code",
   "execution_count": null,
   "metadata": {},
   "outputs": [
    {
     "name": "stdout",
     "output_type": "stream",
     "text": [
      "0\n"
     ]
    }
   ],
   "source": [
    "n = config['number_of_angles']\n",
    "\n",
    "C = np.zeros((N0, N1), dtype=np.complex128)\n",
    "Sigma = np.zeros((n, n), dtype=np.complex128)\n",
    "k = 0\n",
    "for ii in range(nrank):\n",
    "    for jj in range(nrank):\n",
    "        cc0 = coefficients_of_grid_function_list(result0[k])\n",
    "        cc1 = coefficients_of_grid_function_list(result1[k])\n",
    "        C += 1/3. * bemppUQ.utils.login.tensorize(cc0,cc1)\n",
    "        k += 1\n",
    "        \n",
    "t = 0.05\n",
    "\n",
    "A0 = (lhs_op0 * lhs_op0).strong_form()\n",
    "A1 = (lhs_op1 * lhs_op1).strong_form()\n",
    "\n",
    "AA = HDenseTensorLinearOperator(A0, A1)\n",
    "from bemppUQ.utils.login import gmres\n",
    "print('0')\n",
    "test = A0 * C\n",
    "print('1')\n",
    "test2 = (A1 * test.conj().T).conj().T\n",
    "print(\"2\")\n",
    "import time\n",
    "ta = time.time()\n",
    "X, info, res, times = gmres(AA, np.ravel(test2), return_residuals=True)\n",
    "ta = time.time()-ta\n",
    "print(ta, \"texec\")"
   ]
  },
  {
   "cell_type": "code",
   "execution_count": null,
   "metadata": {},
   "outputs": [],
   "source": [
    "electric_far0, magnetic_far0 = transmission_operators0[3], transmission_operators0[4] \n",
    "electric_far1, magnetic_far1 = transmission_operators1[3], transmission_operators1[4] "
   ]
  },
  {
   "cell_type": "code",
   "execution_count": null,
   "metadata": {},
   "outputs": [],
   "source": [
    "E0 = bempp.api.as_matrix(electric_far0.discrete_operator)\n",
    "M0 = bempp.api.as_matrix(magnetic_far0.discrete_operator)\n",
    "Z0 = np.zeros(E0.shape, dtype = E0.dtype)\n",
    "\n",
    "E1 = bempp.api.as_matrix(electric_far1.discrete_operator)\n",
    "M1 = bempp.api.as_matrix(magnetic_far1.discrete_operator)\n",
    "Z1 = np.zeros(E1.shape, dtype = E1.dtype)\n",
    "\n",
    "R0 = np.bmat([Z0, -E0], [-M0, Z0])\n",
    "R1 = np.bmat([Z1, -E1], [-M1, Z1])"
   ]
  },
  {
   "cell_type": "code",
   "execution_count": null,
   "metadata": {},
   "outputs": [],
   "source": [
    "R0.shape"
   ]
  },
  {
   "cell_type": "code",
   "execution_count": null,
   "metadata": {},
   "outputs": [],
   "source": [
    "X = X.reshape(C.shape)"
   ]
  },
  {
   "cell_type": "code",
   "execution_count": null,
   "metadata": {},
   "outputs": [],
   "source": [
    "X.shape"
   ]
  },
  {
   "cell_type": "code",
   "execution_count": null,
   "metadata": {},
   "outputs": [],
   "source": [
    "R0.shape"
   ]
  },
  {
   "cell_type": "code",
   "execution_count": null,
   "metadata": {},
   "outputs": [],
   "source": [
    "Xtemp = np.dot(R0, X)\n",
    "FF = np.dot(Xtemp, R1.T)"
   ]
  },
  {
   "cell_type": "code",
   "execution_count": null,
   "metadata": {},
   "outputs": [],
   "source": [
    "Uvar = t ** 2 * FF.diagonal()"
   ]
  },
  {
   "cell_type": "code",
   "execution_count": null,
   "metadata": {},
   "outputs": [],
   "source": [
    "Uvars = np.array(np.sum(Uvar.reshape(3,400), axis=0)).ravel()\n",
    "Umeans = np.sum(Umean0, axis=0)"
   ]
  },
  {
   "cell_type": "code",
   "execution_count": null,
   "metadata": {},
   "outputs": [],
   "source": [
    "from matplotlib import pyplot as plt\n",
    "\n",
    "angles = config['angles']\n",
    "\n",
    "fig, (ax1, ax2)  = plt.subplots(1,2, figsize=(12,6))\n",
    "\n",
    "cs = 10 * np.log10(4 * np.pi * np.abs(Umeans)**2)\n",
    "\n",
    "ax1.plot(angles, cs)\n",
    "\n",
    "\n",
    "y = np.sqrt(np.abs(Uvars))\n",
    "ax2.plot(angles, y)\n",
    "\n",
    "\n",
    "ax2.set_xlabel(r'$\\theta$ (rad)', fontsize=14)\n",
    "ax2.set_ylabel(r'$\\mathrm{RCS}_z(\\theta)$', fontsize=14)\n",
    "\n",
    "\n",
    "ax1.set_xlabel(r'$\\theta$ (rad)', fontsize=14)\n",
    "ax1.set_ylabel(r'$\\mathrm{RCS}(\\theta)$', fontsize=14)\n",
    "\n",
    "ax1.legend()\n",
    "ax1.grid()\n",
    "\n",
    "ax2.legend()\n",
    "ax2.grid()\n",
    "ax2.set_ylim(0, 0.013)\n",
    "\n",
    "plt.show(block=False)\n"
   ]
  }
 ],
 "metadata": {
  "kernelspec": {
   "display_name": "Python 3",
   "language": "python",
   "name": "python3"
  },
  "language_info": {
   "codemirror_mode": {
    "name": "ipython",
    "version": 3
   },
   "file_extension": ".py",
   "mimetype": "text/x-python",
   "name": "python",
   "nbconvert_exporter": "python",
   "pygments_lexer": "ipython3",
   "version": "3.5.2"
  }
 },
 "nbformat": 4,
 "nbformat_minor": 2
}
