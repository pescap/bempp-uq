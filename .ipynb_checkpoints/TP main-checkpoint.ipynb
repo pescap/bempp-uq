{
 "cells": [
  {
   "cell_type": "markdown",
   "metadata": {},
   "source": [
    "## Helmholtz Transmission Problem\n",
    "\n",
    "Consider the TP for given parameters $\\mu_i,\\kappa_i$, $i=0,1$."
   ]
  },
  {
   "cell_type": "code",
   "execution_count": 28,
   "metadata": {},
   "outputs": [],
   "source": [
    "import bempp.api as bem\n",
    "from __future__ import division\n",
    "import numpy as np\n",
    "from matplotlib import pyplot as plt"
   ]
  },
  {
   "cell_type": "markdown",
   "metadata": {},
   "source": [
    "Set the parameters. Here we consider the unit sphere."
   ]
  },
  {
   "cell_type": "code",
   "execution_count": null,
   "metadata": {},
   "outputs": [],
   "source": [
    "kExt = 0.4\n",
    "kInt = 1\n",
    "rhoExt = 1\n",
    "rhoInt = 1\n",
    "\n",
    "R = 1\n",
    "h = 0.2\n",
    "alpha = rhoInt / rhoExt\n",
    "\n",
    "# Gmres\n",
    "maxiter = 2000\n",
    "restart = 200\n",
    "tolerance = 1E-4\n",
    "\n",
    "\n",
    "def rescale(A, alpha):\n",
    "    \"\"\"Rescale the 2x2 block operator matrix A\"\"\"\n",
    "    A[0, 1] = A[0, 1] * alpha\n",
    "    A[1, 0] = A[1, 0] * (1/alpha)\n",
    "    return A\n",
    "\n",
    "\n",
    "\n",
    "\n",
    "\n",
    "def dirichlet_fun(x, n, domain_index, result):\n",
    "    result[0] = np.exp(1j * kExt * x[0])\n",
    "\n",
    "def neumann_fun(x, n, domain_index, result):\n",
    "    result[0] = 1j * kExt * np.exp(1j * kExt * x[0]) * n[0]\n",
    "\n",
    "\n",
    "\n",
    "grid = bem.shapes.sphere(h=h, r=R)\n",
    "space = bem.function_space(grid, \"P\", 1)\n",
    "N = int(space.global_dof_count)\n",
    "print N, 'NP1'\n",
    "\n",
    "AExt = bem.operators.boundary.helmholtz.multitrace_operator(grid, kExt)\n",
    "I  = bem.operators.boundary.sparse.multitrace_identity(grid, spaces='linear')\n",
    "AInt = bem.operators.boundary.helmholtz.multitrace_operator(grid, kInt)\n",
    "STF = rescale(AInt, alpha) + AExt\n",
    "dirichlet_grid_fun = bem.GridFunction(space, fun=dirichlet_fun)\n",
    "neumann_grid_fun = bem.GridFunction(space, fun=neumann_fun)\n",
    "\n",
    "rhs = [dirichlet_grid_fun, neumann_grid_fun]\n",
    "rhs_sk =  rhs\n",
    "\n",
    "print 'Solver First-Kind'\n",
    "\n",
    "x, info, residuals = bem.linalg.gmres( STF * STF, STF * rhs, tol=tolerance, return_residuals=True, use_strong_form=True, maxiter=maxiter, restart=restart)\n"
   ]
  },
  {
   "cell_type": "markdown",
   "metadata": {},
   "source": [
    "Recover the unknowns as GridFunctions:"
   ]
  },
  {
   "cell_type": "code",
   "execution_count": null,
   "metadata": {},
   "outputs": [],
   "source": [
    "dtrace = bem.GridFunction(space,coefficients = x[:N])\n",
    "ntrace = bem.GridFunction(space,coefficients = x[N:])"
   ]
  },
  {
   "cell_type": "markdown",
   "metadata": {},
   "source": [
    "Plot the GMRES residual:"
   ]
  },
  {
   "cell_type": "code",
   "execution_count": null,
   "metadata": {},
   "outputs": [],
   "source": [
    "plt.plot(np.log10(residuals), '--', linewidth=1.5, color= 'red')\n",
    "plt.xlabel('Iteration count')\n",
    "plt.ylabel('Relative l2-error (log)')\n",
    "plt.legend()"
   ]
  },
  {
   "cell_type": "code",
   "execution_count": null,
   "metadata": {},
   "outputs": [],
   "source": []
  }
 ],
 "metadata": {
  "kernelspec": {
   "display_name": "Python 2",
   "language": "python",
   "name": "python2"
  },
  "language_info": {
   "codemirror_mode": {
    "name": "ipython",
    "version": 2
   },
   "file_extension": ".py",
   "mimetype": "text/x-python",
   "name": "python",
   "nbconvert_exporter": "python",
   "pygments_lexer": "ipython2",
   "version": "2.7.12"
  }
 },
 "nbformat": 4,
 "nbformat_minor": 2
}
