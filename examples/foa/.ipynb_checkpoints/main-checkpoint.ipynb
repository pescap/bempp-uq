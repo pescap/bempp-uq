{
 "cells": [
  {
   "cell_type": "code",
   "execution_count": 1,
   "metadata": {},
   "outputs": [
    {
     "name": "stdout",
     "output_type": "stream",
     "text": [
      "0.07226349639084238\n",
      "9003\n",
      "FF\n",
      "iteration - 1 || residual - 0.3111357667821194 7.72175407409668\n",
      "iteration - 2 || residual - 0.10666263809495441 2.6366233825683594\n",
      "iteration - 3 || residual - 0.03672549220258293 2.6308071613311768\n",
      "iteration - 4 || residual - 0.01251596041219554 2.6092798709869385\n",
      "iteration - 5 || residual - 0.004096972587810252 2.6150898933410645\n",
      "iteration - 6 || residual - 0.0013536033830538017 2.645231246948242\n",
      "iteration - 7 || residual - 0.0004465885159223715 2.645458936691284\n",
      "iteration - 8 || residual - 0.00014721985394382556 2.632624864578247\n",
      "iteration - 9 || residual - 5.138162587534988e-05 2.6109397411346436\n",
      "iteration - 10 || residual - 1.7787891450074902e-05 2.6503467559814453\n",
      "iteration - 11 || residual - 6.12806405177631e-06 2.6267805099487305\n",
      "FFp\n",
      "iteration - 1 || residual - 0.2563075532380231 7.766463756561279\n",
      "iteration - 2 || residual - 0.0942959885575643 2.6121768951416016\n",
      "iteration - 3 || residual - 0.03037278780536878 2.591254234313965\n",
      "iteration - 4 || residual - 0.01061138572420807 2.6064980030059814\n",
      "iteration - 5 || residual - 0.003375063506328681 2.6048614978790283\n",
      "iteration - 6 || residual - 0.0011999292735933409 2.6188716888427734\n",
      "iteration - 7 || residual - 0.00039662558692833797 2.605485200881958\n",
      "iteration - 8 || residual - 0.000129372150289107 2.567347288131714\n",
      "iteration - 9 || residual - 4.9381370710353664e-05 2.646958827972412\n",
      "iteration - 10 || residual - 1.9123234415383273e-05 2.4173998832702637\n",
      "iteration - 11 || residual - 6.525166836918294e-06 2.269479513168335\n"
     ]
    }
   ],
   "source": [
    "import bempp.api\n",
    "import numpy as np\n",
    "\n",
    "import sys\n",
    "sys.path.append('../../')\n",
    "from decimal import *\n",
    "\n",
    "import bemppUQ\n",
    "from bemppUQ.operators.maxwell import assemble_operators, evaluate_far_field, evaluate_far_field_sd\n",
    "from bemppUQ.shapes import kite, perturbate\n",
    "from bempp.api.assembly.blocked_operator import (\n",
    "    coefficients_of_grid_function_list,\n",
    "    projections_of_grid_function_list,\n",
    "    grid_function_list_from_coefficients,\n",
    ")\n",
    "\n",
    "from bemppUQ.foa.operators import (\n",
    "    function_product,\n",
    "    surface_divergence,\n",
    "    surface_gradient,\n",
    "    trace_transformation,\n",
    ")\n",
    "\n",
    "bempp.api.global_parameters.assembly.potential_operator_assembly_type = 'dense'\n",
    "#bempp.api.global_parameters.assembly.boundary_operator_assembly_type = 'dense'\n",
    "bempp.api.global_parameters.hmat.eps = 1E-4\n",
    "\n",
    "config = bemppUQ.config.set_case('A')\n",
    "precision = 20\n",
    "\n",
    "h = 2.0 * np.pi / (precision * config[\"k_int\"])\n",
    "\n",
    "print(h)\n",
    "base_grid = kite(h=h) \n",
    "print(base_grid.leaf_view.entity_count(1))\n",
    "\n",
    "grid_eta, grid_fun = perturbate(base_grid, 0)\n",
    "\n",
    "# far_field for t=0\n",
    "\n",
    "transmission_operators = assemble_operators(base_grid, config)\n",
    "print('FF')\n",
    "far_field, solution = evaluate_far_field(transmission_operators, config)\n",
    "print('FFp')\n",
    "far_field_p, sol_p = evaluate_far_field_sd(base_grid, transmission_operators, config, solution, grid_fun)"
   ]
  },
  {
   "cell_type": "code",
   "execution_count": 2,
   "metadata": {},
   "outputs": [
    {
     "name": "stdout",
     "output_type": "stream",
     "text": [
      "1e-06 t now\n",
      "iteration - 1 || residual - 0.3508267799240547 0.6655299663543701\n",
      "iteration - 2 || residual - 0.17321793402827027 0.22624993324279785\n",
      "iteration - 3 || residual - 0.11300145444323564 0.22170567512512207\n",
      "iteration - 4 || residual - 0.061172267812805346 0.2341783046722412\n",
      "iteration - 5 || residual - 0.03616883739280379 0.2395937442779541\n",
      "iteration - 6 || residual - 0.021082568469356706 0.23189711570739746\n",
      "iteration - 7 || residual - 0.011364171745872472 0.23842620849609375\n",
      "iteration - 8 || residual - 0.0066752878733178315 0.23684310913085938\n",
      "iteration - 9 || residual - 0.003799536638558526 0.21924471855163574\n",
      "iteration - 10 || residual - 0.00218741065269995 0.2119278907775879\n",
      "iteration - 11 || residual - 0.0012531481996836996 0.2057051658630371\n",
      "iteration - 12 || residual - 0.0008153678677666737 0.2049119472503662\n",
      "iteration - 13 || residual - 0.0005555215864288597 0.21200990676879883\n",
      "iteration - 14 || residual - 0.00039106625110781187 0.20796442031860352\n",
      "iteration - 15 || residual - 0.00030144763444112945 0.22931671142578125\n",
      "iteration - 16 || residual - 0.0002258866615184741 0.2374269962310791\n",
      "iteration - 17 || residual - 0.00017294739514636914 0.22913336753845215\n",
      "iteration - 18 || residual - 0.0001240779041284642 0.2239212989807129\n",
      "iteration - 19 || residual - 9.188942606975417e-05 0.2241499423980713\n",
      "iteration - 20 || residual - 6.825004570559036e-05 0.45052003860473633\n",
      "iteration - 21 || residual - 5.506088087213448e-05 0.22026991844177246\n",
      "iteration - 22 || residual - 4.527530786181471e-05 0.2240457534790039\n",
      "iteration - 23 || residual - 3.645645521655174e-05 0.22955965995788574\n",
      "iteration - 24 || residual - 2.91009077589786e-05 0.23252439498901367\n",
      "iteration - 25 || residual - 2.326515192450542e-05 0.23065853118896484\n",
      "iteration - 26 || residual - 1.841535781393468e-05 0.23652958869934082\n",
      "iteration - 27 || residual - 1.4553683003715215e-05 0.22971630096435547\n",
      "iteration - 28 || residual - 1.1360918710641943e-05 0.23298311233520508\n",
      "iteration - 29 || residual - 8.898981939722321e-06 0.21788644790649414\n"
     ]
    },
    {
     "ename": "TypeError",
     "evalue": "can't multiply sequence by non-int of type 'float'",
     "output_type": "error",
     "traceback": [
      "\u001b[0;31m---------------------------------------------------------------------------\u001b[0m",
      "\u001b[0;31mTypeError\u001b[0m                                 Traceback (most recent call last)",
      "\u001b[0;32m<ipython-input-2-20c67490d3f6>\u001b[0m in \u001b[0;36m<module>\u001b[0;34m()\u001b[0m\n\u001b[1;32m     16\u001b[0m \u001b[0;34m\u001b[0m\u001b[0m\n\u001b[1;32m     17\u001b[0m     \u001b[0mresidual_eta\u001b[0m \u001b[0;34m=\u001b[0m \u001b[0mfar_field_eta\u001b[0m \u001b[0;34m-\u001b[0m \u001b[0mfar_field\u001b[0m\u001b[0;34m\u001b[0m\u001b[0m\n\u001b[0;32m---> 18\u001b[0;31m     \u001b[0mresidual_p\u001b[0m \u001b[0;34m=\u001b[0m \u001b[0mfar_field_eta\u001b[0m \u001b[0;34m-\u001b[0m \u001b[0mfar_field\u001b[0m \u001b[0;34m-\u001b[0m \u001b[0mt\u001b[0m \u001b[0;34m*\u001b[0m \u001b[0mfar_field_p\u001b[0m\u001b[0;34m\u001b[0m\u001b[0m\n\u001b[0m\u001b[1;32m     19\u001b[0m \u001b[0;34m\u001b[0m\u001b[0m\n\u001b[1;32m     20\u001b[0m     \u001b[0merr_0\u001b[0m \u001b[0;34m=\u001b[0m \u001b[0mnp\u001b[0m\u001b[0;34m.\u001b[0m\u001b[0mlinalg\u001b[0m\u001b[0;34m.\u001b[0m\u001b[0mnorm\u001b[0m\u001b[0;34m(\u001b[0m\u001b[0mresidual_eta\u001b[0m\u001b[0;34m)\u001b[0m\u001b[0;34m/\u001b[0m\u001b[0mnp\u001b[0m\u001b[0;34m.\u001b[0m\u001b[0mlinalg\u001b[0m\u001b[0;34m.\u001b[0m\u001b[0mnorm\u001b[0m\u001b[0;34m(\u001b[0m\u001b[0mfar_field_eta\u001b[0m\u001b[0;34m)\u001b[0m\u001b[0;34m\u001b[0m\u001b[0m\n",
      "\u001b[0;31mTypeError\u001b[0m: can't multiply sequence by non-int of type 'float'"
     ]
    }
   ],
   "source": [
    "far_field_eta_list = []\n",
    "\n",
    "t_list = [1E-6, 1E-5, 1E-4, 1E-3, 0.01, 0.01, 0.02, 0.025, 0.05, 0.1, 0.25, 0.5, 1, 1.5, 2]\n",
    "\n",
    "\n",
    "config[\"spaces\"] = \"maxwell_primal\"  # or maxwell\n",
    "config[\"osrc\"] = True\n",
    "\n",
    "for t in t_list:\n",
    "    print(t, 't now')\n",
    "    grid_eta, _ = perturbate(base_grid, t)\n",
    "    transmission_operators_eta = assemble_operators(grid_eta, config)\n",
    "    far_field_eta, _ = evaluate_far_field(transmission_operators_eta, config)\n",
    "    \n",
    "    far_field_eta_list.append(far_field_eta)\n",
    "    \n",
    "    residual_eta = far_field_eta - far_field\n",
    "    residual_p = far_field_eta - far_field - t * far_field_p\n",
    "    \n",
    "    err_0 = np.linalg.norm(residual_eta)/np.linalg.norm(far_field_eta)\n",
    "    err_FOA = np.linalg.norm(residual_p)/ np.linalg.norm(far_field_eta)\n",
    "    \n",
    "    print(err_0, 'relative norm for the residual eta')\n",
    "    print(err_FOA, 'norm for the residual first order')\n",
    "    \n",
    "    \n"
   ]
  },
  {
   "cell_type": "code",
   "execution_count": null,
   "metadata": {},
   "outputs": [],
   "source": [
    "name = (\n",
    "    \"results/\"\n",
    "        + \"precision\"\n",
    "    + str(precision))\n",
    "\n",
    "\n",
    "my_dict = {\n",
    "        \"far_field\": far_field,\n",
    "    \"far_field_p\": far_field_p,\n",
    "    \"far_field_eta\": far_field_eta_list,\n",
    "    }\n",
    "\n",
    "np.save(name + \".npy\", my_dict)    "
   ]
  },
  {
   "cell_type": "code",
   "execution_count": null,
   "metadata": {},
   "outputs": [],
   "source": [
    "#bempp.api.export(grid=grid_eta, file_name='grid.msh')"
   ]
  },
  {
   "cell_type": "code",
   "execution_count": null,
   "metadata": {},
   "outputs": [],
   "source": [
    "\n",
    "size = 10000\n",
    "u = np.random.random(size) \n",
    "v = np.random.random(size)\n",
    "\n",
    "print(u.mean())\n",
    "print(v.mean())\n",
    "print((u * v ).mean())\n",
    "\n"
   ]
  },
  {
   "cell_type": "code",
   "execution_count": null,
   "metadata": {},
   "outputs": [],
   "source": [
    "u"
   ]
  },
  {
   "cell_type": "code",
   "execution_count": null,
   "metadata": {},
   "outputs": [],
   "source": []
  }
 ],
 "metadata": {
  "kernelspec": {
   "display_name": "Python 3",
   "language": "python",
   "name": "python3"
  },
  "language_info": {
   "codemirror_mode": {
    "name": "ipython",
    "version": 3
   },
   "file_extension": ".py",
   "mimetype": "text/x-python",
   "name": "python",
   "nbconvert_exporter": "python",
   "pygments_lexer": "ipython3",
   "version": "3.5.2"
  }
 },
 "nbformat": 4,
 "nbformat_minor": 2
}
