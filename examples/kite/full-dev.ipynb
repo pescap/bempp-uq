{
 "cells": [
  {
   "cell_type": "code",
   "execution_count": null,
   "metadata": {},
   "outputs": [],
   "source": [
    "%%time\n",
    "\n",
    "import bempp.api\n",
    "import numpy as np\n",
    "\n",
    "import sys\n",
    "sys.path.append('../../')\n",
    "from decimal import *\n",
    "\n",
    "import bemppUQ\n",
    "from bemppUQ.operators.maxwell import assemble_operators, evaluate_far_field, evaluate_far_field_sd\n",
    "from bemppUQ.shapes import kite, perturbate\n",
    "\n",
    "bempp.api.global_parameters.assembly.potential_operator_assembly_type = 'dense'\n",
    "bempp.api.global_parameters.hmat.eps = 1E-4\n",
    "\n",
    "config = bemppUQ.config.set_case('A')\n",
    "precision0 = 20\n",
    "precision1 = 20\n",
    "\n",
    "h0 = 2.0 * np.pi / (precision0 * config[\"k_int\"])\n",
    "h1 = 2.0 * np.pi / (precision1 * config[\"k_int\"])\n",
    "\n",
    "grid0 = kite(h=h0) \n",
    "grid1 = kite(h=h1) \n",
    "\n",
    "print(grid0.leaf_view.entity_count(1) * 2, 'NDOF')\n",
    "print(grid1.leaf_view.entity_count(1) * 2, 'NDOF')\n",
    "\n",
    "grid_eta0, grid_fun0 = perturbate(grid0, 0)\n",
    "grid_eta1, grid_fun1 = perturbate(grid1, 0)\n",
    "\n",
    "print('0')\n",
    "transmission_operators0 = assemble_operators(grid0, config)\n",
    "print('1')\n",
    "transmission_operators1 = assemble_operators(grid1, config)\n",
    "print('2')\n",
    "Umean0, solution0 = evaluate_far_field(transmission_operators0, config)\n",
    "print('3')\n",
    "Umean1, solution1 = evaluate_far_field(transmission_operators1, config)\n",
    "print('4')\n",
    "result0 = evaluate_far_field_sd(grid0, transmission_operators0, config, solution0, grid_fun0, solve = True)\n",
    "print('5')\n",
    "result1 = evaluate_far_field_sd(grid1, transmission_operators1, config, solution1, grid_fun1, solve = True) "
   ]
  },
  {
   "cell_type": "code",
   "execution_count": null,
   "metadata": {},
   "outputs": [],
   "source": [
    "output = {}\n",
    "output['result0'] = result0\n",
    "output['result1'] = result1\n",
    "output['Umean0'] = Umean0\n",
    "output['Umean1'] = Umean1\n",
    "\n",
    "import pickle\n",
    "with open('results/full/output_full.txt', \"wb\") as fp:\n",
    "    pickle.dump(output, fp)"
   ]
  }
 ],
 "metadata": {
  "kernelspec": {
   "display_name": "Python 3",
   "language": "python",
   "name": "python3"
  },
  "language_info": {
   "codemirror_mode": {
    "name": "ipython",
    "version": 3
   },
   "file_extension": ".py",
   "mimetype": "text/x-python",
   "name": "python",
   "nbconvert_exporter": "python",
   "pygments_lexer": "ipython3",
   "version": "3.5.2"
  }
 },
 "nbformat": 4,
 "nbformat_minor": 2
}
